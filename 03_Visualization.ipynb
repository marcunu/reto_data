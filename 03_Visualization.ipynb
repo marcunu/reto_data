{
 "cells": [
  {
   "cell_type": "markdown",
   "metadata": {},
   "source": [
    "<img  src=\"https://media.mehrnews.com/d/2019/07/31/4/3194094.jpg\">"
   ]
  },
  {
   "cell_type": "markdown",
   "metadata": {},
   "source": [
    "<h1>Data Visualization<span class=\"tocSkip\"></span></h1>\n",
    "\n"
   ]
  },
  {
   "cell_type": "markdown",
   "metadata": {},
   "source": [
    "# Import"
   ]
  },
  {
   "cell_type": "markdown",
   "metadata": {},
   "source": [
    "## libraries"
   ]
  },
  {
   "cell_type": "code",
   "execution_count": 3,
   "metadata": {},
   "outputs": [],
   "source": [
    "import pandas as pd\n",
    "import seaborn as sns\n",
    "import matplotlib.pyplot as plt\n",
    "import re\n",
    "import numpy"
   ]
  },
  {
   "cell_type": "markdown",
   "metadata": {},
   "source": [
    "## DataFrame"
   ]
  },
  {
   "cell_type": "code",
   "execution_count": 4,
   "metadata": {},
   "outputs": [],
   "source": [
    "data = pd.read_csv(\"data/cars_limpio.csv\")"
   ]
  },
  {
   "cell_type": "markdown",
   "metadata": {},
   "source": [
    "# Preliminary conclusions"
   ]
  },
  {
   "cell_type": "markdown",
   "metadata": {},
   "source": [
    "# Type of fuel"
   ]
  },
  {
   "cell_type": "code",
   "execution_count": 8,
   "metadata": {},
   "outputs": [],
   "source": [
    "death=lt.df_filtered_best(shrk, \"Fatal (Y/N)\", 2)\n"
   ]
  },
  {
   "cell_type": "code",
   "execution_count": 9,
   "metadata": {},
   "outputs": [
    {
     "data": {
      "text/plain": [
       "N    0.74774\n",
       "Y    0.25226\n",
       "Name: Fatal (Y/N), dtype: float64"
      ]
     },
     "execution_count": 9,
     "metadata": {},
     "output_type": "execute_result"
    }
   ],
   "source": [
    "sex=lt.df_filtered_best(shrk, \"Sex \", 2)\n",
    "sex_2 = lt.df_filtered_best(sex, \"Fatal (Y/N)\", 2)\n",
    "#sex_3 = lt.df_filtered_best(shrk, \"Sex \", 1)\n",
    "#sex_4 =  lt.df_filtered_best(sex_3, \"Fatal (Y/N)\", 2)\n",
    "mujeres = shrk[shrk[\"Sex \"] == \"F\"]\n",
    "mujeres =  lt.df_filtered_best(mujeres, \"Fatal (Y/N)\", 2)\n",
    "mujeres[\"Fatal (Y/N)\"].value_counts(1)\n",
    "hombres = shrk[shrk[\"Sex \"] == \"M\"]\n",
    "hombres =  lt.df_filtered_best(hombres, \"Fatal (Y/N)\", 2)\n",
    "hombres[\"Fatal (Y/N)\"].value_counts(1)"
   ]
  },
  {
   "cell_type": "code",
   "execution_count": 10,
   "metadata": {
    "scrolled": false
   },
   "outputs": [
    {
     "name": "stdout",
     "output_type": "stream",
     "text": [
      "The chance of dying: 24.0%\n"
     ]
    },
    {
     "data": {
      "text/plain": [
       "<AxesSubplot:xlabel='Fatal (Y/N)', ylabel='count'>"
      ]
     },
     "execution_count": 10,
     "metadata": {},
     "output_type": "execute_result"
    },
    {
     "data": {
      "image/png": "[encoded data removed]",
      "text/plain": [
       "<Figure size 432x288 with 1 Axes>"
      ]
     },
     "metadata": {
      "needs_background": "light"
     },
     "output_type": "display_data"
    }
   ],
   "source": [
    "riesgo_muerte = sns.countplot(x=sex_2[\"Fatal (Y/N)\"], hue = sex_2[\"Sex \"], palette=\"ch:s=-.2,r=.6\")\n",
    "\n",
    "por_muertes=shrk[\"Fatal (Y/N)\"].value_counts(1)\n",
    "muerte_h = hombres[\"Fatal (Y/N)\"].value_counts(1)\n",
    "muerte_m = mujeres[\"Fatal (Y/N)\"].value_counts(1)\n",
    "\n",
    "print(f\"The chance of dying: {por_muertes[1].round(2)*100}%\")\n",
    "riesgo_muerte"
   ]
  },
  {
   "cell_type": "code",
   "execution_count": 11,
   "metadata": {},
   "outputs": [],
   "source": [
    "vt.guarda_grafico(riesgo_muerte, \"images/riesgo_muerto.svg\")"
   ]
  },
  {
   "cell_type": "markdown",
   "metadata": {},
   "source": [
    "# Price per travel"
   ]
  },
  {
   "cell_type": "markdown",
   "metadata": {},
   "source": [
    "# Distance"
   ]
  },
  {
   "cell_type": "code",
   "execution_count": null,
   "metadata": {},
   "outputs": [],
   "source": []
  }
 ],
 "metadata": {
  "kernelspec": {
   "display_name": "Python 3",
   "language": "python",
   "name": "python3"
  },
  "language_info": {
   "codemirror_mode": {
    "name": "ipython",
    "version": 3
   },
   "file_extension": ".py",
   "mimetype": "text/x-python",
   "name": "python",
   "nbconvert_exporter": "python",
   "pygments_lexer": "ipython3",
   "version": "3.8.5"
  },
  "toc": {
   "base_numbering": 1,
   "nav_menu": {},
   "number_sections": true,
   "sideBar": true,
   "skip_h1_title": false,
   "title_cell": "Table of Contents",
   "title_sidebar": "Contents",
   "toc_cell": false,
   "toc_position": {},
   "toc_section_display": true,
   "toc_window_display": false
  }
 },
 "nbformat": 4,
 "nbformat_minor": 4
}

{
 "cells": [
  {
   "cell_type": "markdown",
   "metadata": {},
   "source": [
    "<img src=\"https://www.bbva.com/wp-content/uploads/2019/11/machine-learning-1024x629.jpg\">"
   ]
  },
  {
   "cell_type": "markdown",
   "metadata": {},
   "source": [
    "<h1>Machine Learning<span class=\"tocSkip\"></span></h1>\n",
    "\n"
   ]
  },
  {
   "cell_type": "markdown",
   "metadata": {},
   "source": [
    "# Import"
   ]
  },
  {
   "cell_type": "markdown",
   "metadata": {},
   "source": [
    "## Libraries"
   ]
  },
  {
   "cell_type": "code",
   "execution_count": 1,
   "metadata": {},
   "outputs": [],
   "source": [
    "import src.limpieza as lm\n",
    "import pandas as pd\n",
    "import numpy as np\n",
    "import pickle\n",
    "import statsmodels.formula.api as smf\n",
    "import matplotlib.pyplot as plt"
   ]
  },
  {
   "cell_type": "markdown",
   "metadata": {},
   "source": [
    "## Machine learning libraries"
   ]
  },
  {
   "cell_type": "code",
   "execution_count": 2,
   "metadata": {},
   "outputs": [],
   "source": [
    "from sklearn.model_selection import train_test_split\n",
    "from xgboost import XGBRegressor\n",
    "from sklearn.linear_model import Ridge, Lasso, LinearRegression\n",
    "from sklearn.linear_model import SGDRegressor\n",
    "from sklearn.neighbors import KNeighborsRegressor\n",
    "from sklearn.ensemble import RandomForestRegressor, GradientBoostingRegressor\n",
    "from sklearn import metrics\n",
    "from sklearn.model_selection import GridSearchCV\n",
    "from sklearn.tree import DecisionTreeRegressor\n",
    "import h2o\n",
    "from h2o.automl import H2OAutoML"
   ]
  },
  {
   "cell_type": "markdown",
   "metadata": {},
   "source": [
    "## Dataframe"
   ]
  },
  {
   "cell_type": "code",
   "execution_count": 25,
   "metadata": {},
   "outputs": [
    {
     "data": {
      "text/plain": [
       "Unnamed: 0         int64\n",
       "distance         float64\n",
       "consume          float64\n",
       "speed              int64\n",
       "temp_inside      float64\n",
       "temp_outside       int64\n",
       "gas_type          object\n",
       "AC                 int64\n",
       "rain               int64\n",
       "sun                int64\n",
       "Fuel_Price       float64\n",
       "Journey_Price    float64\n",
       "dtype: object"
      ]
     },
     "execution_count": 25,
     "metadata": {},
     "output_type": "execute_result"
    }
   ],
   "source": [
    "data = pd.read_csv(\"data/cars_limpio.csv\")\n",
    "data.dtypes"
   ]
  },
  {
   "cell_type": "code",
   "execution_count": 26,
   "metadata": {},
   "outputs": [],
   "source": [
    "data = data.drop(\"Unnamed: 0\",axis=1)"
   ]
  },
  {
   "cell_type": "markdown",
   "metadata": {},
   "source": [
    "# Categorical to numerical"
   ]
  },
  {
   "cell_type": "code",
   "execution_count": 27,
   "metadata": {},
   "outputs": [],
   "source": [
    "data = pd.get_dummies(data, prefix=[\"gas_type\"])"
   ]
  },
  {
   "cell_type": "code",
   "execution_count": 28,
   "metadata": {},
   "outputs": [
    {
     "data": {
      "text/html": [
       "<div>\n",
       "<style scoped>\n",
       "    .dataframe tbody tr th:only-of-type {\n",
       "        vertical-align: middle;\n",
       "    }\n",
       "\n",
       "    .dataframe tbody tr th {\n",
       "        vertical-align: top;\n",
       "    }\n",
       "\n",
       "    .dataframe thead th {\n",
       "        text-align: right;\n",
       "    }\n",
       "</style>\n",
       "<table border=\"1\" class=\"dataframe\">\n",
       "  <thead>\n",
       "    <tr style=\"text-align: right;\">\n",
       "      <th></th>\n",
       "      <th>distance</th>\n",
       "      <th>consume</th>\n",
       "      <th>speed</th>\n",
       "      <th>temp_inside</th>\n",
       "      <th>temp_outside</th>\n",
       "      <th>AC</th>\n",
       "      <th>rain</th>\n",
       "      <th>sun</th>\n",
       "      <th>Fuel_Price</th>\n",
       "      <th>Journey_Price</th>\n",
       "      <th>gas_type_E10</th>\n",
       "      <th>gas_type_SP98</th>\n",
       "    </tr>\n",
       "  </thead>\n",
       "  <tbody>\n",
       "    <tr>\n",
       "      <th>0</th>\n",
       "      <td>28.0</td>\n",
       "      <td>5.0</td>\n",
       "      <td>26</td>\n",
       "      <td>21.5</td>\n",
       "      <td>12</td>\n",
       "      <td>0</td>\n",
       "      <td>0</td>\n",
       "      <td>0</td>\n",
       "      <td>1.38</td>\n",
       "      <td>1.93</td>\n",
       "      <td>1</td>\n",
       "      <td>0</td>\n",
       "    </tr>\n",
       "    <tr>\n",
       "      <th>1</th>\n",
       "      <td>12.0</td>\n",
       "      <td>4.2</td>\n",
       "      <td>30</td>\n",
       "      <td>21.5</td>\n",
       "      <td>13</td>\n",
       "      <td>0</td>\n",
       "      <td>0</td>\n",
       "      <td>0</td>\n",
       "      <td>1.38</td>\n",
       "      <td>0.70</td>\n",
       "      <td>1</td>\n",
       "      <td>0</td>\n",
       "    </tr>\n",
       "    <tr>\n",
       "      <th>2</th>\n",
       "      <td>11.2</td>\n",
       "      <td>5.5</td>\n",
       "      <td>38</td>\n",
       "      <td>21.5</td>\n",
       "      <td>15</td>\n",
       "      <td>0</td>\n",
       "      <td>0</td>\n",
       "      <td>0</td>\n",
       "      <td>1.38</td>\n",
       "      <td>0.85</td>\n",
       "      <td>1</td>\n",
       "      <td>0</td>\n",
       "    </tr>\n",
       "  </tbody>\n",
       "</table>\n",
       "</div>"
      ],
      "text/plain": [
       "   distance  consume  speed  temp_inside  temp_outside  AC  rain  sun  \\\n",
       "0      28.0      5.0     26         21.5            12   0     0    0   \n",
       "1      12.0      4.2     30         21.5            13   0     0    0   \n",
       "2      11.2      5.5     38         21.5            15   0     0    0   \n",
       "\n",
       "   Fuel_Price  Journey_Price  gas_type_E10  gas_type_SP98  \n",
       "0        1.38           1.93             1              0  \n",
       "1        1.38           0.70             1              0  \n",
       "2        1.38           0.85             1              0  "
      ]
     },
     "execution_count": 28,
     "metadata": {},
     "output_type": "execute_result"
    }
   ],
   "source": [
    "data.head(3)"
   ]
  },
  {
   "cell_type": "markdown",
   "metadata": {},
   "source": [
    "# Correlated columns"
   ]
  },
  {
   "cell_type": "code",
   "execution_count": 29,
   "metadata": {},
   "outputs": [
    {
     "data": {
      "text/plain": [
       "<AxesSubplot:>"
      ]
     },
     "execution_count": 29,
     "metadata": {},
     "output_type": "execute_result"
    },
    {
     "data": {
      "image/png": "[encoded data removed]",
      "text/plain": [
       "<Figure size 792x648 with 2 Axes>"
      ]
     },
     "metadata": {},
     "output_type": "display_data"
    }
   ],
   "source": [
    "lm.heat_map_triangle(data)"
   ]
  },
  {
   "cell_type": "markdown",
   "metadata": {},
   "source": [
    "As we can see, the categorical columns are correlated with the price, logically the `Fuel_price` column is the price that each type of fuel has, so the relationship between these columns is `1`.\n",
    "\n",
    "The next step is to delete the fuel price column."
   ]
  },
  {
   "cell_type": "code",
   "execution_count": 30,
   "metadata": {},
   "outputs": [],
   "source": [
    "data.drop(\"Fuel_Price\",axis=1, inplace=True)"
   ]
  },
  {
   "cell_type": "markdown",
   "metadata": {},
   "source": [
    "Since we only have two types of gasoline, if it is not one type it is the other, so we can do without one of the gasoline type columns."
   ]
  },
  {
   "cell_type": "code",
   "execution_count": 31,
   "metadata": {},
   "outputs": [],
   "source": [
    "data.drop(\"gas_type_SP98\",axis=1, inplace=True)"
   ]
  },
  {
   "cell_type": "markdown",
   "metadata": {},
   "source": [
    "The `journey_price` column has been created by us as a consequence of multiplying the distance, consumption and speed, so we can also eliminate it."
   ]
  },
  {
   "cell_type": "code",
   "execution_count": 32,
   "metadata": {},
   "outputs": [],
   "source": [
    "data.drop(\"Journey_Price\",axis=1, inplace=True)"
   ]
  },
  {
   "cell_type": "code",
   "execution_count": 33,
   "metadata": {},
   "outputs": [
    {
     "data": {
      "text/html": [
       "<div>\n",
       "<style scoped>\n",
       "    .dataframe tbody tr th:only-of-type {\n",
       "        vertical-align: middle;\n",
       "    }\n",
       "\n",
       "    .dataframe tbody tr th {\n",
       "        vertical-align: top;\n",
       "    }\n",
       "\n",
       "    .dataframe thead th {\n",
       "        text-align: right;\n",
       "    }\n",
       "</style>\n",
       "<table border=\"1\" class=\"dataframe\">\n",
       "  <thead>\n",
       "    <tr style=\"text-align: right;\">\n",
       "      <th></th>\n",
       "      <th>distance</th>\n",
       "      <th>consume</th>\n",
       "      <th>speed</th>\n",
       "      <th>temp_inside</th>\n",
       "      <th>temp_outside</th>\n",
       "      <th>AC</th>\n",
       "      <th>rain</th>\n",
       "      <th>sun</th>\n",
       "      <th>gas_type_E10</th>\n",
       "    </tr>\n",
       "  </thead>\n",
       "  <tbody>\n",
       "    <tr>\n",
       "      <th>0</th>\n",
       "      <td>28.0</td>\n",
       "      <td>5.0</td>\n",
       "      <td>26</td>\n",
       "      <td>21.5</td>\n",
       "      <td>12</td>\n",
       "      <td>0</td>\n",
       "      <td>0</td>\n",
       "      <td>0</td>\n",
       "      <td>1</td>\n",
       "    </tr>\n",
       "    <tr>\n",
       "      <th>1</th>\n",
       "      <td>12.0</td>\n",
       "      <td>4.2</td>\n",
       "      <td>30</td>\n",
       "      <td>21.5</td>\n",
       "      <td>13</td>\n",
       "      <td>0</td>\n",
       "      <td>0</td>\n",
       "      <td>0</td>\n",
       "      <td>1</td>\n",
       "    </tr>\n",
       "    <tr>\n",
       "      <th>2</th>\n",
       "      <td>11.2</td>\n",
       "      <td>5.5</td>\n",
       "      <td>38</td>\n",
       "      <td>21.5</td>\n",
       "      <td>15</td>\n",
       "      <td>0</td>\n",
       "      <td>0</td>\n",
       "      <td>0</td>\n",
       "      <td>1</td>\n",
       "    </tr>\n",
       "    <tr>\n",
       "      <th>3</th>\n",
       "      <td>12.9</td>\n",
       "      <td>3.9</td>\n",
       "      <td>36</td>\n",
       "      <td>21.5</td>\n",
       "      <td>14</td>\n",
       "      <td>0</td>\n",
       "      <td>0</td>\n",
       "      <td>0</td>\n",
       "      <td>1</td>\n",
       "    </tr>\n",
       "    <tr>\n",
       "      <th>4</th>\n",
       "      <td>18.5</td>\n",
       "      <td>4.5</td>\n",
       "      <td>46</td>\n",
       "      <td>21.5</td>\n",
       "      <td>15</td>\n",
       "      <td>0</td>\n",
       "      <td>0</td>\n",
       "      <td>0</td>\n",
       "      <td>1</td>\n",
       "    </tr>\n",
       "  </tbody>\n",
       "</table>\n",
       "</div>"
      ],
      "text/plain": [
       "   distance  consume  speed  temp_inside  temp_outside  AC  rain  sun  \\\n",
       "0      28.0      5.0     26         21.5            12   0     0    0   \n",
       "1      12.0      4.2     30         21.5            13   0     0    0   \n",
       "2      11.2      5.5     38         21.5            15   0     0    0   \n",
       "3      12.9      3.9     36         21.5            14   0     0    0   \n",
       "4      18.5      4.5     46         21.5            15   0     0    0   \n",
       "\n",
       "   gas_type_E10  \n",
       "0             1  \n",
       "1             1  \n",
       "2             1  \n",
       "3             1  \n",
       "4             1  "
      ]
     },
     "execution_count": 33,
     "metadata": {},
     "output_type": "execute_result"
    }
   ],
   "source": [
    "data.head()"
   ]
  },
  {
   "cell_type": "code",
   "execution_count": 34,
   "metadata": {},
   "outputs": [
    {
     "data": {
      "text/plain": [
       "<AxesSubplot:>"
      ]
     },
     "execution_count": 34,
     "metadata": {},
     "output_type": "execute_result"
    },
    {
     "data": {
      "image/png": "[encoded data removed]",
      "text/plain": [
       "<Figure size 792x648 with 2 Axes>"
      ]
     },
     "metadata": {},
     "output_type": "display_data"
    }
   ],
   "source": [
    "lm.heat_map_triangle(data)"
   ]
  },
  {
   "cell_type": "markdown",
   "metadata": {},
   "source": [
    "# Train-Test-Split"
   ]
  },
  {
   "cell_type": "code",
   "execution_count": 35,
   "metadata": {},
   "outputs": [],
   "source": [
    "modelo = data"
   ]
  },
  {
   "cell_type": "code",
   "execution_count": 36,
   "metadata": {},
   "outputs": [],
   "source": [
    "X = modelo.drop(\"consume\", axis=1)\n",
    "y = modelo.consume"
   ]
  },
  {
   "cell_type": "code",
   "execution_count": 37,
   "metadata": {},
   "outputs": [],
   "source": [
    "X_train, X_test, y_train, y_test = train_test_split(X, y, test_size = 0.2)"
   ]
  },
  {
   "cell_type": "code",
   "execution_count": 38,
   "metadata": {},
   "outputs": [
    {
     "data": {
      "text/plain": [
       "(300, 8)"
      ]
     },
     "execution_count": 38,
     "metadata": {},
     "output_type": "execute_result"
    }
   ],
   "source": [
    "X_train.shape"
   ]
  },
  {
   "cell_type": "code",
   "execution_count": 39,
   "metadata": {},
   "outputs": [
    {
     "data": {
      "text/plain": [
       "(76, 8)"
      ]
     },
     "execution_count": 39,
     "metadata": {},
     "output_type": "execute_result"
    }
   ],
   "source": [
    "X_test.shape"
   ]
  },
  {
   "cell_type": "code",
   "execution_count": 40,
   "metadata": {},
   "outputs": [
    {
     "data": {
      "text/plain": [
       "(300,)"
      ]
     },
     "execution_count": 40,
     "metadata": {},
     "output_type": "execute_result"
    }
   ],
   "source": [
    "y_train.shape"
   ]
  },
  {
   "cell_type": "code",
   "execution_count": 41,
   "metadata": {
    "scrolled": true
   },
   "outputs": [
    {
     "data": {
      "text/plain": [
       "(76,)"
      ]
     },
     "execution_count": 41,
     "metadata": {},
     "output_type": "execute_result"
    }
   ],
   "source": [
    "y_test.shape"
   ]
  },
  {
   "cell_type": "markdown",
   "metadata": {},
   "source": [
    "# Train models"
   ]
  },
  {
   "cell_type": "markdown",
   "metadata": {},
   "source": [
    "## OLS"
   ]
  },
  {
   "cell_type": "code",
   "execution_count": 44,
   "metadata": {
    "scrolled": true
   },
   "outputs": [
    {
     "data": {
      "text/html": [
       "<table class=\"simpletable\">\n",
       "<caption>OLS Regression Results</caption>\n",
       "<tr>\n",
       "  <th>Dep. Variable:</th>         <td>consume</td>     <th>  R-squared:         </th> <td>   0.206</td>\n",
       "</tr>\n",
       "<tr>\n",
       "  <th>Model:</th>                   <td>OLS</td>       <th>  Adj. R-squared:    </th> <td>   0.189</td>\n",
       "</tr>\n",
       "<tr>\n",
       "  <th>Method:</th>             <td>Least Squares</td>  <th>  F-statistic:       </th> <td>   11.92</td>\n",
       "</tr>\n",
       "<tr>\n",
       "  <th>Date:</th>             <td>Sun, 30 May 2021</td> <th>  Prob (F-statistic):</th> <td>3.84e-15</td>\n",
       "</tr>\n",
       "<tr>\n",
       "  <th>Time:</th>                 <td>16:58:58</td>     <th>  Log-Likelihood:    </th> <td> -504.58</td>\n",
       "</tr>\n",
       "<tr>\n",
       "  <th>No. Observations:</th>      <td>   376</td>      <th>  AIC:               </th> <td>   1027.</td>\n",
       "</tr>\n",
       "<tr>\n",
       "  <th>Df Residuals:</th>          <td>   367</td>      <th>  BIC:               </th> <td>   1063.</td>\n",
       "</tr>\n",
       "<tr>\n",
       "  <th>Df Model:</th>              <td>     8</td>      <th>                     </th>     <td> </td>   \n",
       "</tr>\n",
       "<tr>\n",
       "  <th>Covariance Type:</th>      <td>nonrobust</td>    <th>                     </th>     <td> </td>   \n",
       "</tr>\n",
       "</table>\n",
       "<table class=\"simpletable\">\n",
       "<tr>\n",
       "        <td></td>          <th>coef</th>     <th>std err</th>      <th>t</th>      <th>P>|t|</th>  <th>[0.025</th>    <th>0.975]</th>  \n",
       "</tr>\n",
       "<tr>\n",
       "  <th>Intercept</th>    <td>    7.7082</td> <td>    1.159</td> <td>    6.652</td> <td> 0.000</td> <td>    5.430</td> <td>    9.987</td>\n",
       "</tr>\n",
       "<tr>\n",
       "  <th>distance</th>     <td>    0.0020</td> <td>    0.003</td> <td>    0.780</td> <td> 0.436</td> <td>   -0.003</td> <td>    0.007</td>\n",
       "</tr>\n",
       "<tr>\n",
       "  <th>speed</th>        <td>   -0.0186</td> <td>    0.004</td> <td>   -4.312</td> <td> 0.000</td> <td>   -0.027</td> <td>   -0.010</td>\n",
       "</tr>\n",
       "<tr>\n",
       "  <th>temp_inside</th>  <td>   -0.0780</td> <td>    0.054</td> <td>   -1.448</td> <td> 0.149</td> <td>   -0.184</td> <td>    0.028</td>\n",
       "</tr>\n",
       "<tr>\n",
       "  <th>temp_outside</th> <td>   -0.0390</td> <td>    0.008</td> <td>   -4.901</td> <td> 0.000</td> <td>   -0.055</td> <td>   -0.023</td>\n",
       "</tr>\n",
       "<tr>\n",
       "  <th>AC</th>           <td>    0.4560</td> <td>    0.197</td> <td>    2.320</td> <td> 0.021</td> <td>    0.070</td> <td>    0.842</td>\n",
       "</tr>\n",
       "<tr>\n",
       "  <th>rain</th>         <td>    0.5164</td> <td>    0.156</td> <td>    3.310</td> <td> 0.001</td> <td>    0.210</td> <td>    0.823</td>\n",
       "</tr>\n",
       "<tr>\n",
       "  <th>sun</th>          <td>   -0.1273</td> <td>    0.190</td> <td>   -0.669</td> <td> 0.504</td> <td>   -0.501</td> <td>    0.247</td>\n",
       "</tr>\n",
       "<tr>\n",
       "  <th>gas_type_E10</th> <td>    0.0470</td> <td>    0.101</td> <td>    0.467</td> <td> 0.640</td> <td>   -0.151</td> <td>    0.245</td>\n",
       "</tr>\n",
       "</table>\n",
       "<table class=\"simpletable\">\n",
       "<tr>\n",
       "  <th>Omnibus:</th>       <td>248.875</td> <th>  Durbin-Watson:     </th> <td>   2.095</td>\n",
       "</tr>\n",
       "<tr>\n",
       "  <th>Prob(Omnibus):</th> <td> 0.000</td>  <th>  Jarque-Bera (JB):  </th> <td>2935.909</td>\n",
       "</tr>\n",
       "<tr>\n",
       "  <th>Skew:</th>          <td> 2.656</td>  <th>  Prob(JB):          </th> <td>    0.00</td>\n",
       "</tr>\n",
       "<tr>\n",
       "  <th>Kurtosis:</th>      <td>15.617</td>  <th>  Cond. No.          </th> <td>1.34e+03</td>\n",
       "</tr>\n",
       "</table><br/><br/>Notes:<br/>[1] Standard Errors assume that the covariance matrix of the errors is correctly specified.<br/>[2] The condition number is large, 1.34e+03. This might indicate that there are<br/>strong multicollinearity or other numerical problems."
      ],
      "text/plain": [
       "<class 'statsmodels.iolib.summary.Summary'>\n",
       "\"\"\"\n",
       "                            OLS Regression Results                            \n",
       "==============================================================================\n",
       "Dep. Variable:                consume   R-squared:                       0.206\n",
       "Model:                            OLS   Adj. R-squared:                  0.189\n",
       "Method:                 Least Squares   F-statistic:                     11.92\n",
       "Date:                Sun, 30 May 2021   Prob (F-statistic):           3.84e-15\n",
       "Time:                        16:58:58   Log-Likelihood:                -504.58\n",
       "No. Observations:                 376   AIC:                             1027.\n",
       "Df Residuals:                     367   BIC:                             1063.\n",
       "Df Model:                           8                                         \n",
       "Covariance Type:            nonrobust                                         \n",
       "================================================================================\n",
       "                   coef    std err          t      P>|t|      [0.025      0.975]\n",
       "--------------------------------------------------------------------------------\n",
       "Intercept        7.7082      1.159      6.652      0.000       5.430       9.987\n",
       "distance         0.0020      0.003      0.780      0.436      -0.003       0.007\n",
       "speed           -0.0186      0.004     -4.312      0.000      -0.027      -0.010\n",
       "temp_inside     -0.0780      0.054     -1.448      0.149      -0.184       0.028\n",
       "temp_outside    -0.0390      0.008     -4.901      0.000      -0.055      -0.023\n",
       "AC               0.4560      0.197      2.320      0.021       0.070       0.842\n",
       "rain             0.5164      0.156      3.310      0.001       0.210       0.823\n",
       "sun             -0.1273      0.190     -0.669      0.504      -0.501       0.247\n",
       "gas_type_E10     0.0470      0.101      0.467      0.640      -0.151       0.245\n",
       "==============================================================================\n",
       "Omnibus:                      248.875   Durbin-Watson:                   2.095\n",
       "Prob(Omnibus):                  0.000   Jarque-Bera (JB):             2935.909\n",
       "Skew:                           2.656   Prob(JB):                         0.00\n",
       "Kurtosis:                      15.617   Cond. No.                     1.34e+03\n",
       "==============================================================================\n",
       "\n",
       "Notes:\n",
       "[1] Standard Errors assume that the covariance matrix of the errors is correctly specified.\n",
       "[2] The condition number is large, 1.34e+03. This might indicate that there are\n",
       "strong multicollinearity or other numerical problems.\n",
       "\"\"\""
      ]
     },
     "execution_count": 44,
     "metadata": {},
     "output_type": "execute_result"
    }
   ],
   "source": [
    "variables = smf.ols(\"consume ~ distance + speed + temp_inside + temp_outside + AC + rain + sun + gas_type_E10\", data = data).fit()\n",
    "variables.summary()"
   ]
  },
  {
   "cell_type": "markdown",
   "metadata": {},
   "source": [
    "## Models"
   ]
  },
  {
   "cell_type": "code",
   "execution_count": 45,
   "metadata": {},
   "outputs": [],
   "source": [
    "models = {\"ridge\":Ridge(),\n",
    "         \"lasso\":Lasso(),\n",
    "         \"sgd\":SGDRegressor(),\n",
    "         \"KNN\":KNeighborsRegressor(),\n",
    "         \"gradient\":GradientBoostingRegressor(),\n",
    "          \"Rfr\" : RandomForestRegressor(),\n",
    "          \"Decision Tree\" : DecisionTreeRegressor(max_depth=7),\n",
    "          \"XGBoost\" : XGBRegressor(),\n",
    "          \"Linear Regressor\" : LinearRegression()\n",
    "          \n",
    "         }"
   ]
  },
  {
   "cell_type": "code",
   "execution_count": 46,
   "metadata": {
    "scrolled": false
   },
   "outputs": [
    {
     "name": "stdout",
     "output_type": "stream",
     "text": [
      "Trainning model -----> ridge\n",
      "Model finished\n",
      "Trainning model -----> lasso\n",
      "Model finished\n",
      "Trainning model -----> sgd\n",
      "Model finished\n",
      "Trainning model -----> KNN\n",
      "Model finished\n",
      "Trainning model -----> gradient\n",
      "Model finished\n",
      "Trainning model -----> Rfr\n",
      "Model finished\n",
      "Trainning model -----> Decision Tree\n",
      "Model finished\n",
      "Trainning model -----> XGBoost\n"
     ]
    },
    {
     "name": "stderr",
     "output_type": "stream",
     "text": [
      "/home/marcunu/.local/lib/python3.8/site-packages/xgboost/data.py:112: UserWarning: Use subset (sliced data) of np.ndarray is not recommended because it will generate extra copies and increase memory consumption\n",
      "  warnings.warn(\n"
     ]
    },
    {
     "name": "stdout",
     "output_type": "stream",
     "text": [
      "Model finished\n",
      "Trainning model -----> Linear Regressor\n",
      "Model finished\n"
     ]
    },
    {
     "data": {
      "text/html": [
       "<div>\n",
       "<style scoped>\n",
       "    .dataframe tbody tr th:only-of-type {\n",
       "        vertical-align: middle;\n",
       "    }\n",
       "\n",
       "    .dataframe tbody tr th {\n",
       "        vertical-align: top;\n",
       "    }\n",
       "\n",
       "    .dataframe thead th {\n",
       "        text-align: right;\n",
       "    }\n",
       "</style>\n",
       "<table border=\"1\" class=\"dataframe\">\n",
       "  <thead>\n",
       "    <tr style=\"text-align: right;\">\n",
       "      <th></th>\n",
       "      <th>ridge</th>\n",
       "      <th>lasso</th>\n",
       "      <th>sgd</th>\n",
       "      <th>KNN</th>\n",
       "      <th>gradient</th>\n",
       "      <th>Rfr</th>\n",
       "      <th>Decision Tree</th>\n",
       "      <th>XGBoost</th>\n",
       "      <th>Linear Regressor</th>\n",
       "    </tr>\n",
       "  </thead>\n",
       "  <tbody>\n",
       "    <tr>\n",
       "      <th>MAE</th>\n",
       "      <td>0.716456</td>\n",
       "      <td>0.716365</td>\n",
       "      <td>3.026410e+12</td>\n",
       "      <td>0.562632</td>\n",
       "      <td>0.526534</td>\n",
       "      <td>0.563010</td>\n",
       "      <td>0.653205</td>\n",
       "      <td>0.561576</td>\n",
       "      <td>0.717217</td>\n",
       "    </tr>\n",
       "    <tr>\n",
       "      <th>MSE</th>\n",
       "      <td>1.535736</td>\n",
       "      <td>1.698452</td>\n",
       "      <td>9.702140e+24</td>\n",
       "      <td>0.907895</td>\n",
       "      <td>0.646758</td>\n",
       "      <td>0.731680</td>\n",
       "      <td>0.833217</td>\n",
       "      <td>0.758518</td>\n",
       "      <td>1.533500</td>\n",
       "    </tr>\n",
       "    <tr>\n",
       "      <th>RMSE</th>\n",
       "      <td>1.239248</td>\n",
       "      <td>1.303247</td>\n",
       "      <td>3.114826e+12</td>\n",
       "      <td>0.952835</td>\n",
       "      <td>0.804213</td>\n",
       "      <td>0.855383</td>\n",
       "      <td>0.912807</td>\n",
       "      <td>0.870930</td>\n",
       "      <td>1.238346</td>\n",
       "    </tr>\n",
       "    <tr>\n",
       "      <th>R2_score</th>\n",
       "      <td>15.050000</td>\n",
       "      <td>6.050000</td>\n",
       "      <td>-5.366566e+26</td>\n",
       "      <td>49.780000</td>\n",
       "      <td>64.230000</td>\n",
       "      <td>59.530000</td>\n",
       "      <td>53.910000</td>\n",
       "      <td>58.040000</td>\n",
       "      <td>15.180000</td>\n",
       "    </tr>\n",
       "  </tbody>\n",
       "</table>\n",
       "</div>"
      ],
      "text/plain": [
       "              ridge     lasso           sgd        KNN   gradient        Rfr  \\\n",
       "MAE        0.716456  0.716365  3.026410e+12   0.562632   0.526534   0.563010   \n",
       "MSE        1.535736  1.698452  9.702140e+24   0.907895   0.646758   0.731680   \n",
       "RMSE       1.239248  1.303247  3.114826e+12   0.952835   0.804213   0.855383   \n",
       "R2_score  15.050000  6.050000 -5.366566e+26  49.780000  64.230000  59.530000   \n",
       "\n",
       "          Decision Tree    XGBoost  Linear Regressor  \n",
       "MAE            0.653205   0.561576          0.717217  \n",
       "MSE            0.833217   0.758518          1.533500  \n",
       "RMSE           0.912807   0.870930          1.238346  \n",
       "R2_score      53.910000  58.040000         15.180000  "
      ]
     },
     "execution_count": 46,
     "metadata": {},
     "output_type": "execute_result"
    }
   ],
   "source": [
    "\n",
    "dicc= {}\n",
    "\n",
    "for name, model in models.items():\n",
    "    dicc_metrics = {}\n",
    "    \n",
    "    print(f\"Trainning model -----> {name}\")\n",
    "    model.fit(X_train, y_train)\n",
    "    y_pred = model.predict(X_test)\n",
    "    \n",
    "    dicc_metrics[\"MAE\"] = metrics.mean_absolute_error(y_test, y_pred)\n",
    "    dicc_metrics[\"MSE\"] = metrics.mean_squared_error(y_test,y_pred)\n",
    "    dicc_metrics[\"RMSE\"] = np.sqrt(metrics.mean_squared_error(y_test,y_pred))\n",
    "    dicc_metrics[\"R2_score\"] = round((metrics.r2_score(y_true=y_test,y_pred=y_pred)*100),2)\n",
    "    \n",
    "    dicc[name] = dicc_metrics\n",
    "    \n",
    "    print(\"Model finished\")\n",
    "metricas = pd.DataFrame(dicc)\n",
    "metricas"
   ]
  },
  {
   "cell_type": "markdown",
   "metadata": {},
   "source": [
    "# Max depth"
   ]
  },
  {
   "cell_type": "code",
   "execution_count": 51,
   "metadata": {},
   "outputs": [],
   "source": [
    "results = []\n",
    "\n",
    "for depth in range(1, 25):\n",
    "    model = RandomForestRegressor(max_depth=depth)\n",
    "    model.fit(X_train, y_train)\n",
    "    \n",
    "    result = {\n",
    "        \"depth\": depth,\n",
    "        \"train_error\": metrics.mean_squared_error(y_train, model.predict(X_train)),\n",
    "        \"test_error\": metrics.mean_squared_error(y_test, model.predict(X_test))\n",
    "    }\n",
    "    \n",
    "    results.append(result)"
   ]
  },
  {
   "cell_type": "code",
   "execution_count": 52,
   "metadata": {},
   "outputs": [],
   "source": [
    "results_df = pd.DataFrame(results)"
   ]
  },
  {
   "cell_type": "code",
   "execution_count": 53,
   "metadata": {},
   "outputs": [
    {
     "data": {
      "text/plain": [
       "<matplotlib.legend.Legend at 0x7f1e2c52bca0>"
      ]
     },
     "execution_count": 53,
     "metadata": {},
     "output_type": "execute_result"
    },
    {
     "data": {
      "image/png": "[encoded data removed]",
      "text/plain": [
       "<Figure size 720x720 with 1 Axes>"
      ]
     },
     "metadata": {},
     "output_type": "display_data"
    }
   ],
   "source": [
    "fig = plt.figure(figsize=(10, 10))\n",
    "plt.plot(results_df.depth, results_df.train_error, label=\"train error\")\n",
    "plt.plot(results_df.depth, results_df.test_error, label=\"test error\")\n",
    "plt.legend()"
   ]
  },
  {
   "cell_type": "markdown",
   "metadata": {},
   "source": [
    "# Parameter Tuning\n",
    "Now that we have found the most efficient model, let's try the different `hyperparameters` to improve it.\n",
    "\n"
   ]
  },
  {
   "cell_type": "code",
   "execution_count": 67,
   "metadata": {},
   "outputs": [],
   "source": [
    "gs = GridSearchCV(\n",
    "    estimator=GradientBoostingRegressor(),\n",
    "    param_grid={\n",
    "        \"max_depth\": [2,3,4,5,6],\n",
    "        \"max_features\": [0.3,0.4,0.5,0.55],\n",
    "        \"min_samples_split\": [2,3,4]\n",
    "    },\n",
    "    cv=5,\n",
    "    verbose=3,\n",
    "    scoring=\"neg_mean_squared_error\",\n",
    "    return_train_score=True\n",
    ")"
   ]
  },
  {
   "cell_type": "code",
   "execution_count": 68,
   "metadata": {
    "scrolled": true
   },
   "outputs": [
    {
     "name": "stdout",
     "output_type": "stream",
     "text": [
      "Fitting 5 folds for each of 60 candidates, totalling 300 fits\n",
      "[CV 1/5] END max_depth=2, max_features=0.3, min_samples_split=2; total time=   0.1s\n",
      "[CV 2/5] END max_depth=2, max_features=0.3, min_samples_split=2; total time=   0.1s\n",
      "[CV 3/5] END max_depth=2, max_features=0.3, min_samples_split=2; total time=   0.1s\n",
      "[CV 4/5] END max_depth=2, max_features=0.3, min_samples_split=2; total time=   0.1s\n",
      "[CV 5/5] END max_depth=2, max_features=0.3, min_samples_split=2; total time=   0.1s\n",
      "[CV 1/5] END max_depth=2, max_features=0.3, min_samples_split=3; total time=   0.1s\n",
      "[CV 2/5] END max_depth=2, max_features=0.3, min_samples_split=3; total time=   0.1s\n",
      "[CV 3/5] END max_depth=2, max_features=0.3, min_samples_split=3; total time=   0.1s\n",
      "[CV 4/5] END max_depth=2, max_features=0.3, min_samples_split=3; total time=   0.1s\n",
      "[CV 5/5] END max_depth=2, max_features=0.3, min_samples_split=3; total time=   0.1s\n",
      "[CV 1/5] END max_depth=2, max_features=0.3, min_samples_split=4; total time=   0.1s\n",
      "[CV 2/5] END max_depth=2, max_features=0.3, min_samples_split=4; total time=   0.1s\n",
      "[CV 3/5] END max_depth=2, max_features=0.3, min_samples_split=4; total time=   0.1s\n",
      "[CV 4/5] END max_depth=2, max_features=0.3, min_samples_split=4; total time=   0.1s\n",
      "[CV 5/5] END max_depth=2, max_features=0.3, min_samples_split=4; total time=   0.1s\n",
      "[CV 1/5] END max_depth=2, max_features=0.4, min_samples_split=2; total time=   0.1s\n",
      "[CV 2/5] END max_depth=2, max_features=0.4, min_samples_split=2; total time=   0.1s\n",
      "[CV 3/5] END max_depth=2, max_features=0.4, min_samples_split=2; total time=   0.1s\n",
      "[CV 4/5] END max_depth=2, max_features=0.4, min_samples_split=2; total time=   0.1s\n",
      "[CV 5/5] END max_depth=2, max_features=0.4, min_samples_split=2; total time=   0.1s\n",
      "[CV 1/5] END max_depth=2, max_features=0.4, min_samples_split=3; total time=   0.1s\n",
      "[CV 2/5] END max_depth=2, max_features=0.4, min_samples_split=3; total time=   0.1s\n",
      "[CV 3/5] END max_depth=2, max_features=0.4, min_samples_split=3; total time=   0.1s\n",
      "[CV 4/5] END max_depth=2, max_features=0.4, min_samples_split=3; total time=   0.1s\n",
      "[CV 5/5] END max_depth=2, max_features=0.4, min_samples_split=3; total time=   0.1s\n",
      "[CV 1/5] END max_depth=2, max_features=0.4, min_samples_split=4; total time=   0.1s\n",
      "[CV 2/5] END max_depth=2, max_features=0.4, min_samples_split=4; total time=   0.1s\n",
      "[CV 3/5] END max_depth=2, max_features=0.4, min_samples_split=4; total time=   0.1s\n",
      "[CV 4/5] END max_depth=2, max_features=0.4, min_samples_split=4; total time=   0.1s\n",
      "[CV 5/5] END max_depth=2, max_features=0.4, min_samples_split=4; total time=   0.1s\n",
      "[CV 1/5] END max_depth=2, max_features=0.5, min_samples_split=2; total time=   0.1s\n",
      "[CV 2/5] END max_depth=2, max_features=0.5, min_samples_split=2; total time=   0.1s\n",
      "[CV 3/5] END max_depth=2, max_features=0.5, min_samples_split=2; total time=   0.1s\n",
      "[CV 4/5] END max_depth=2, max_features=0.5, min_samples_split=2; total time=   0.1s\n",
      "[CV 5/5] END max_depth=2, max_features=0.5, min_samples_split=2; total time=   0.1s\n",
      "[CV 1/5] END max_depth=2, max_features=0.5, min_samples_split=3; total time=   0.1s\n",
      "[CV 2/5] END max_depth=2, max_features=0.5, min_samples_split=3; total time=   0.1s\n",
      "[CV 3/5] END max_depth=2, max_features=0.5, min_samples_split=3; total time=   0.1s\n",
      "[CV 4/5] END max_depth=2, max_features=0.5, min_samples_split=3; total time=   0.1s\n",
      "[CV 5/5] END max_depth=2, max_features=0.5, min_samples_split=3; total time=   0.1s\n",
      "[CV 1/5] END max_depth=2, max_features=0.5, min_samples_split=4; total time=   0.1s\n",
      "[CV 2/5] END max_depth=2, max_features=0.5, min_samples_split=4; total time=   0.1s\n",
      "[CV 3/5] END max_depth=2, max_features=0.5, min_samples_split=4; total time=   0.1s\n",
      "[CV 4/5] END max_depth=2, max_features=0.5, min_samples_split=4; total time=   0.1s\n",
      "[CV 5/5] END max_depth=2, max_features=0.5, min_samples_split=4; total time=   0.1s\n",
      "[CV 1/5] END max_depth=2, max_features=0.55, min_samples_split=2; total time=   0.1s\n",
      "[CV 2/5] END max_depth=2, max_features=0.55, min_samples_split=2; total time=   0.1s\n",
      "[CV 3/5] END max_depth=2, max_features=0.55, min_samples_split=2; total time=   0.1s\n",
      "[CV 4/5] END max_depth=2, max_features=0.55, min_samples_split=2; total time=   0.1s\n",
      "[CV 5/5] END max_depth=2, max_features=0.55, min_samples_split=2; total time=   0.1s\n",
      "[CV 1/5] END max_depth=2, max_features=0.55, min_samples_split=3; total time=   0.1s\n",
      "[CV 2/5] END max_depth=2, max_features=0.55, min_samples_split=3; total time=   0.1s\n",
      "[CV 3/5] END max_depth=2, max_features=0.55, min_samples_split=3; total time=   0.1s\n",
      "[CV 4/5] END max_depth=2, max_features=0.55, min_samples_split=3; total time=   0.1s\n",
      "[CV 5/5] END max_depth=2, max_features=0.55, min_samples_split=3; total time=   0.1s\n",
      "[CV 1/5] END max_depth=2, max_features=0.55, min_samples_split=4; total time=   0.1s\n",
      "[CV 2/5] END max_depth=2, max_features=0.55, min_samples_split=4; total time=   0.2s\n",
      "[CV 3/5] END max_depth=2, max_features=0.55, min_samples_split=4; total time=   0.2s\n",
      "[CV 4/5] END max_depth=2, max_features=0.55, min_samples_split=4; total time=   0.1s\n",
      "[CV 5/5] END max_depth=2, max_features=0.55, min_samples_split=4; total time=   0.1s\n",
      "[CV 1/5] END max_depth=3, max_features=0.3, min_samples_split=2; total time=   0.1s\n",
      "[CV 2/5] END max_depth=3, max_features=0.3, min_samples_split=2; total time=   0.1s\n",
      "[CV 3/5] END max_depth=3, max_features=0.3, min_samples_split=2; total time=   0.1s\n",
      "[CV 4/5] END max_depth=3, max_features=0.3, min_samples_split=2; total time=   0.1s\n",
      "[CV 5/5] END max_depth=3, max_features=0.3, min_samples_split=2; total time=   0.1s\n",
      "[CV 1/5] END max_depth=3, max_features=0.3, min_samples_split=3; total time=   0.1s\n",
      "[CV 2/5] END max_depth=3, max_features=0.3, min_samples_split=3; total time=   0.1s\n",
      "[CV 3/5] END max_depth=3, max_features=0.3, min_samples_split=3; total time=   0.1s\n",
      "[CV 4/5] END max_depth=3, max_features=0.3, min_samples_split=3; total time=   0.1s\n",
      "[CV 5/5] END max_depth=3, max_features=0.3, min_samples_split=3; total time=   0.1s\n",
      "[CV 1/5] END max_depth=3, max_features=0.3, min_samples_split=4; total time=   0.1s\n",
      "[CV 2/5] END max_depth=3, max_features=0.3, min_samples_split=4; total time=   0.1s\n",
      "[CV 3/5] END max_depth=3, max_features=0.3, min_samples_split=4; total time=   0.1s\n",
      "[CV 4/5] END max_depth=3, max_features=0.3, min_samples_split=4; total time=   0.1s\n",
      "[CV 5/5] END max_depth=3, max_features=0.3, min_samples_split=4; total time=   0.1s\n",
      "[CV 1/5] END max_depth=3, max_features=0.4, min_samples_split=2; total time=   0.1s\n",
      "[CV 2/5] END max_depth=3, max_features=0.4, min_samples_split=2; total time=   0.1s\n",
      "[CV 3/5] END max_depth=3, max_features=0.4, min_samples_split=2; total time=   0.1s\n",
      "[CV 4/5] END max_depth=3, max_features=0.4, min_samples_split=2; total time=   0.1s\n",
      "[CV 5/5] END max_depth=3, max_features=0.4, min_samples_split=2; total time=   0.1s\n",
      "[CV 1/5] END max_depth=3, max_features=0.4, min_samples_split=3; total time=   0.1s\n",
      "[CV 2/5] END max_depth=3, max_features=0.4, min_samples_split=3; total time=   0.1s\n",
      "[CV 3/5] END max_depth=3, max_features=0.4, min_samples_split=3; total time=   0.1s\n",
      "[CV 4/5] END max_depth=3, max_features=0.4, min_samples_split=3; total time=   0.1s\n",
      "[CV 5/5] END max_depth=3, max_features=0.4, min_samples_split=3; total time=   0.1s\n",
      "[CV 1/5] END max_depth=3, max_features=0.4, min_samples_split=4; total time=   0.1s\n",
      "[CV 2/5] END max_depth=3, max_features=0.4, min_samples_split=4; total time=   0.1s\n",
      "[CV 3/5] END max_depth=3, max_features=0.4, min_samples_split=4; total time=   0.1s\n",
      "[CV 4/5] END max_depth=3, max_features=0.4, min_samples_split=4; total time=   0.1s\n",
      "[CV 5/5] END max_depth=3, max_features=0.4, min_samples_split=4; total time=   0.1s\n",
      "[CV 1/5] END max_depth=3, max_features=0.5, min_samples_split=2; total time=   0.1s\n",
      "[CV 2/5] END max_depth=3, max_features=0.5, min_samples_split=2; total time=   0.1s\n",
      "[CV 3/5] END max_depth=3, max_features=0.5, min_samples_split=2; total time=   0.1s\n",
      "[CV 4/5] END max_depth=3, max_features=0.5, min_samples_split=2; total time=   0.1s\n",
      "[CV 5/5] END max_depth=3, max_features=0.5, min_samples_split=2; total time=   0.1s\n",
      "[CV 1/5] END max_depth=3, max_features=0.5, min_samples_split=3; total time=   0.1s\n"
     ]
    },
    {
     "name": "stdout",
     "output_type": "stream",
     "text": [
      "[CV 2/5] END max_depth=3, max_features=0.5, min_samples_split=3; total time=   0.1s\n",
      "[CV 3/5] END max_depth=3, max_features=0.5, min_samples_split=3; total time=   0.1s\n",
      "[CV 4/5] END max_depth=3, max_features=0.5, min_samples_split=3; total time=   0.1s\n",
      "[CV 5/5] END max_depth=3, max_features=0.5, min_samples_split=3; total time=   0.1s\n",
      "[CV 1/5] END max_depth=3, max_features=0.5, min_samples_split=4; total time=   0.1s\n",
      "[CV 2/5] END max_depth=3, max_features=0.5, min_samples_split=4; total time=   0.1s\n",
      "[CV 3/5] END max_depth=3, max_features=0.5, min_samples_split=4; total time=   0.1s\n",
      "[CV 4/5] END max_depth=3, max_features=0.5, min_samples_split=4; total time=   0.1s\n",
      "[CV 5/5] END max_depth=3, max_features=0.5, min_samples_split=4; total time=   0.1s\n",
      "[CV 1/5] END max_depth=3, max_features=0.55, min_samples_split=2; total time=   0.1s\n",
      "[CV 2/5] END max_depth=3, max_features=0.55, min_samples_split=2; total time=   0.1s\n",
      "[CV 3/5] END max_depth=3, max_features=0.55, min_samples_split=2; total time=   0.1s\n",
      "[CV 4/5] END max_depth=3, max_features=0.55, min_samples_split=2; total time=   0.1s\n",
      "[CV 5/5] END max_depth=3, max_features=0.55, min_samples_split=2; total time=   0.1s\n",
      "[CV 1/5] END max_depth=3, max_features=0.55, min_samples_split=3; total time=   0.1s\n",
      "[CV 2/5] END max_depth=3, max_features=0.55, min_samples_split=3; total time=   0.1s\n",
      "[CV 3/5] END max_depth=3, max_features=0.55, min_samples_split=3; total time=   0.1s\n",
      "[CV 4/5] END max_depth=3, max_features=0.55, min_samples_split=3; total time=   0.1s\n",
      "[CV 5/5] END max_depth=3, max_features=0.55, min_samples_split=3; total time=   0.1s\n",
      "[CV 1/5] END max_depth=3, max_features=0.55, min_samples_split=4; total time=   0.1s\n",
      "[CV 2/5] END max_depth=3, max_features=0.55, min_samples_split=4; total time=   0.1s\n",
      "[CV 3/5] END max_depth=3, max_features=0.55, min_samples_split=4; total time=   0.1s\n",
      "[CV 4/5] END max_depth=3, max_features=0.55, min_samples_split=4; total time=   0.1s\n",
      "[CV 5/5] END max_depth=3, max_features=0.55, min_samples_split=4; total time=   0.1s\n",
      "[CV 1/5] END max_depth=4, max_features=0.3, min_samples_split=2; total time=   0.1s\n",
      "[CV 2/5] END max_depth=4, max_features=0.3, min_samples_split=2; total time=   0.1s\n",
      "[CV 3/5] END max_depth=4, max_features=0.3, min_samples_split=2; total time=   0.1s\n",
      "[CV 4/5] END max_depth=4, max_features=0.3, min_samples_split=2; total time=   0.1s\n",
      "[CV 5/5] END max_depth=4, max_features=0.3, min_samples_split=2; total time=   0.1s\n",
      "[CV 1/5] END max_depth=4, max_features=0.3, min_samples_split=3; total time=   0.1s\n",
      "[CV 2/5] END max_depth=4, max_features=0.3, min_samples_split=3; total time=   0.1s\n",
      "[CV 3/5] END max_depth=4, max_features=0.3, min_samples_split=3; total time=   0.1s\n",
      "[CV 4/5] END max_depth=4, max_features=0.3, min_samples_split=3; total time=   0.1s\n",
      "[CV 5/5] END max_depth=4, max_features=0.3, min_samples_split=3; total time=   0.1s\n",
      "[CV 1/5] END max_depth=4, max_features=0.3, min_samples_split=4; total time=   0.1s\n",
      "[CV 2/5] END max_depth=4, max_features=0.3, min_samples_split=4; total time=   0.1s\n",
      "[CV 3/5] END max_depth=4, max_features=0.3, min_samples_split=4; total time=   0.1s\n",
      "[CV 4/5] END max_depth=4, max_features=0.3, min_samples_split=4; total time=   0.1s\n",
      "[CV 5/5] END max_depth=4, max_features=0.3, min_samples_split=4; total time=   0.1s\n",
      "[CV 1/5] END max_depth=4, max_features=0.4, min_samples_split=2; total time=   0.1s\n",
      "[CV 2/5] END max_depth=4, max_features=0.4, min_samples_split=2; total time=   0.1s\n",
      "[CV 3/5] END max_depth=4, max_features=0.4, min_samples_split=2; total time=   0.1s\n",
      "[CV 4/5] END max_depth=4, max_features=0.4, min_samples_split=2; total time=   0.1s\n",
      "[CV 5/5] END max_depth=4, max_features=0.4, min_samples_split=2; total time=   0.1s\n",
      "[CV 1/5] END max_depth=4, max_features=0.4, min_samples_split=3; total time=   0.1s\n",
      "[CV 2/5] END max_depth=4, max_features=0.4, min_samples_split=3; total time=   0.1s\n",
      "[CV 3/5] END max_depth=4, max_features=0.4, min_samples_split=3; total time=   0.1s\n",
      "[CV 4/5] END max_depth=4, max_features=0.4, min_samples_split=3; total time=   0.1s\n",
      "[CV 5/5] END max_depth=4, max_features=0.4, min_samples_split=3; total time=   0.1s\n",
      "[CV 1/5] END max_depth=4, max_features=0.4, min_samples_split=4; total time=   0.1s\n",
      "[CV 2/5] END max_depth=4, max_features=0.4, min_samples_split=4; total time=   0.1s\n",
      "[CV 3/5] END max_depth=4, max_features=0.4, min_samples_split=4; total time=   0.1s\n",
      "[CV 4/5] END max_depth=4, max_features=0.4, min_samples_split=4; total time=   0.1s\n",
      "[CV 5/5] END max_depth=4, max_features=0.4, min_samples_split=4; total time=   0.1s\n",
      "[CV 1/5] END max_depth=4, max_features=0.5, min_samples_split=2; total time=   0.1s\n",
      "[CV 2/5] END max_depth=4, max_features=0.5, min_samples_split=2; total time=   0.1s\n",
      "[CV 3/5] END max_depth=4, max_features=0.5, min_samples_split=2; total time=   0.1s\n",
      "[CV 4/5] END max_depth=4, max_features=0.5, min_samples_split=2; total time=   0.1s\n",
      "[CV 5/5] END max_depth=4, max_features=0.5, min_samples_split=2; total time=   0.1s\n",
      "[CV 1/5] END max_depth=4, max_features=0.5, min_samples_split=3; total time=   0.1s\n",
      "[CV 2/5] END max_depth=4, max_features=0.5, min_samples_split=3; total time=   0.1s\n",
      "[CV 3/5] END max_depth=4, max_features=0.5, min_samples_split=3; total time=   0.1s\n",
      "[CV 4/5] END max_depth=4, max_features=0.5, min_samples_split=3; total time=   0.1s\n",
      "[CV 5/5] END max_depth=4, max_features=0.5, min_samples_split=3; total time=   0.1s\n",
      "[CV 1/5] END max_depth=4, max_features=0.5, min_samples_split=4; total time=   0.1s\n",
      "[CV 2/5] END max_depth=4, max_features=0.5, min_samples_split=4; total time=   0.1s\n",
      "[CV 3/5] END max_depth=4, max_features=0.5, min_samples_split=4; total time=   0.1s\n",
      "[CV 4/5] END max_depth=4, max_features=0.5, min_samples_split=4; total time=   0.1s\n",
      "[CV 5/5] END max_depth=4, max_features=0.5, min_samples_split=4; total time=   0.1s\n",
      "[CV 1/5] END max_depth=4, max_features=0.55, min_samples_split=2; total time=   0.1s\n",
      "[CV 2/5] END max_depth=4, max_features=0.55, min_samples_split=2; total time=   0.1s\n",
      "[CV 3/5] END max_depth=4, max_features=0.55, min_samples_split=2; total time=   0.1s\n",
      "[CV 4/5] END max_depth=4, max_features=0.55, min_samples_split=2; total time=   0.1s\n",
      "[CV 5/5] END max_depth=4, max_features=0.55, min_samples_split=2; total time=   0.1s\n",
      "[CV 1/5] END max_depth=4, max_features=0.55, min_samples_split=3; total time=   0.1s\n",
      "[CV 2/5] END max_depth=4, max_features=0.55, min_samples_split=3; total time=   0.1s\n",
      "[CV 3/5] END max_depth=4, max_features=0.55, min_samples_split=3; total time=   0.1s\n",
      "[CV 4/5] END max_depth=4, max_features=0.55, min_samples_split=3; total time=   0.1s\n",
      "[CV 5/5] END max_depth=4, max_features=0.55, min_samples_split=3; total time=   0.1s\n",
      "[CV 1/5] END max_depth=4, max_features=0.55, min_samples_split=4; total time=   0.1s\n",
      "[CV 2/5] END max_depth=4, max_features=0.55, min_samples_split=4; total time=   0.1s\n",
      "[CV 3/5] END max_depth=4, max_features=0.55, min_samples_split=4; total time=   0.1s\n",
      "[CV 4/5] END max_depth=4, max_features=0.55, min_samples_split=4; total time=   0.1s\n",
      "[CV 5/5] END max_depth=4, max_features=0.55, min_samples_split=4; total time=   0.1s\n",
      "[CV 1/5] END max_depth=5, max_features=0.3, min_samples_split=2; total time=   0.1s\n",
      "[CV 2/5] END max_depth=5, max_features=0.3, min_samples_split=2; total time=   0.1s\n",
      "[CV 3/5] END max_depth=5, max_features=0.3, min_samples_split=2; total time=   0.1s\n",
      "[CV 4/5] END max_depth=5, max_features=0.3, min_samples_split=2; total time=   0.1s\n",
      "[CV 5/5] END max_depth=5, max_features=0.3, min_samples_split=2; total time=   0.1s\n",
      "[CV 1/5] END max_depth=5, max_features=0.3, min_samples_split=3; total time=   0.1s\n",
      "[CV 2/5] END max_depth=5, max_features=0.3, min_samples_split=3; total time=   0.1s\n",
      "[CV 3/5] END max_depth=5, max_features=0.3, min_samples_split=3; total time=   0.1s\n",
      "[CV 4/5] END max_depth=5, max_features=0.3, min_samples_split=3; total time=   0.1s\n",
      "[CV 5/5] END max_depth=5, max_features=0.3, min_samples_split=3; total time=   0.1s\n",
      "[CV 1/5] END max_depth=5, max_features=0.3, min_samples_split=4; total time=   0.1s\n",
      "[CV 2/5] END max_depth=5, max_features=0.3, min_samples_split=4; total time=   0.1s\n",
      "[CV 3/5] END max_depth=5, max_features=0.3, min_samples_split=4; total time=   0.1s\n"
     ]
    },
    {
     "name": "stdout",
     "output_type": "stream",
     "text": [
      "[CV 4/5] END max_depth=5, max_features=0.3, min_samples_split=4; total time=   0.1s\n",
      "[CV 5/5] END max_depth=5, max_features=0.3, min_samples_split=4; total time=   0.1s\n",
      "[CV 1/5] END max_depth=5, max_features=0.4, min_samples_split=2; total time=   0.1s\n",
      "[CV 2/5] END max_depth=5, max_features=0.4, min_samples_split=2; total time=   0.1s\n",
      "[CV 3/5] END max_depth=5, max_features=0.4, min_samples_split=2; total time=   0.1s\n",
      "[CV 4/5] END max_depth=5, max_features=0.4, min_samples_split=2; total time=   0.1s\n",
      "[CV 5/5] END max_depth=5, max_features=0.4, min_samples_split=2; total time=   0.1s\n",
      "[CV 1/5] END max_depth=5, max_features=0.4, min_samples_split=3; total time=   0.1s\n",
      "[CV 2/5] END max_depth=5, max_features=0.4, min_samples_split=3; total time=   0.1s\n",
      "[CV 3/5] END max_depth=5, max_features=0.4, min_samples_split=3; total time=   0.1s\n",
      "[CV 4/5] END max_depth=5, max_features=0.4, min_samples_split=3; total time=   0.1s\n",
      "[CV 5/5] END max_depth=5, max_features=0.4, min_samples_split=3; total time=   0.1s\n",
      "[CV 1/5] END max_depth=5, max_features=0.4, min_samples_split=4; total time=   0.1s\n",
      "[CV 2/5] END max_depth=5, max_features=0.4, min_samples_split=4; total time=   0.1s\n",
      "[CV 3/5] END max_depth=5, max_features=0.4, min_samples_split=4; total time=   0.1s\n",
      "[CV 4/5] END max_depth=5, max_features=0.4, min_samples_split=4; total time=   0.1s\n",
      "[CV 5/5] END max_depth=5, max_features=0.4, min_samples_split=4; total time=   0.1s\n",
      "[CV 1/5] END max_depth=5, max_features=0.5, min_samples_split=2; total time=   0.1s\n",
      "[CV 2/5] END max_depth=5, max_features=0.5, min_samples_split=2; total time=   0.2s\n",
      "[CV 3/5] END max_depth=5, max_features=0.5, min_samples_split=2; total time=   0.1s\n",
      "[CV 4/5] END max_depth=5, max_features=0.5, min_samples_split=2; total time=   0.1s\n",
      "[CV 5/5] END max_depth=5, max_features=0.5, min_samples_split=2; total time=   0.1s\n",
      "[CV 1/5] END max_depth=5, max_features=0.5, min_samples_split=3; total time=   0.1s\n",
      "[CV 2/5] END max_depth=5, max_features=0.5, min_samples_split=3; total time=   0.1s\n",
      "[CV 3/5] END max_depth=5, max_features=0.5, min_samples_split=3; total time=   0.1s\n",
      "[CV 4/5] END max_depth=5, max_features=0.5, min_samples_split=3; total time=   0.1s\n",
      "[CV 5/5] END max_depth=5, max_features=0.5, min_samples_split=3; total time=   0.1s\n",
      "[CV 1/5] END max_depth=5, max_features=0.5, min_samples_split=4; total time=   0.1s\n",
      "[CV 2/5] END max_depth=5, max_features=0.5, min_samples_split=4; total time=   0.1s\n",
      "[CV 3/5] END max_depth=5, max_features=0.5, min_samples_split=4; total time=   0.1s\n",
      "[CV 4/5] END max_depth=5, max_features=0.5, min_samples_split=4; total time=   0.1s\n",
      "[CV 5/5] END max_depth=5, max_features=0.5, min_samples_split=4; total time=   0.1s\n",
      "[CV 1/5] END max_depth=5, max_features=0.55, min_samples_split=2; total time=   0.1s\n",
      "[CV 2/5] END max_depth=5, max_features=0.55, min_samples_split=2; total time=   0.1s\n",
      "[CV 3/5] END max_depth=5, max_features=0.55, min_samples_split=2; total time=   0.1s\n",
      "[CV 4/5] END max_depth=5, max_features=0.55, min_samples_split=2; total time=   0.1s\n",
      "[CV 5/5] END max_depth=5, max_features=0.55, min_samples_split=2; total time=   0.1s\n",
      "[CV 1/5] END max_depth=5, max_features=0.55, min_samples_split=3; total time=   0.1s\n",
      "[CV 2/5] END max_depth=5, max_features=0.55, min_samples_split=3; total time=   0.2s\n",
      "[CV 3/5] END max_depth=5, max_features=0.55, min_samples_split=3; total time=   0.2s\n",
      "[CV 4/5] END max_depth=5, max_features=0.55, min_samples_split=3; total time=   0.2s\n",
      "[CV 5/5] END max_depth=5, max_features=0.55, min_samples_split=3; total time=   0.2s\n",
      "[CV 1/5] END max_depth=5, max_features=0.55, min_samples_split=4; total time=   0.2s\n",
      "[CV 2/5] END max_depth=5, max_features=0.55, min_samples_split=4; total time=   0.1s\n",
      "[CV 3/5] END max_depth=5, max_features=0.55, min_samples_split=4; total time=   0.1s\n",
      "[CV 4/5] END max_depth=5, max_features=0.55, min_samples_split=4; total time=   0.1s\n",
      "[CV 5/5] END max_depth=5, max_features=0.55, min_samples_split=4; total time=   0.1s\n",
      "[CV 1/5] END max_depth=6, max_features=0.3, min_samples_split=2; total time=   0.1s\n",
      "[CV 2/5] END max_depth=6, max_features=0.3, min_samples_split=2; total time=   0.1s\n",
      "[CV 3/5] END max_depth=6, max_features=0.3, min_samples_split=2; total time=   0.1s\n",
      "[CV 4/5] END max_depth=6, max_features=0.3, min_samples_split=2; total time=   0.1s\n",
      "[CV 5/5] END max_depth=6, max_features=0.3, min_samples_split=2; total time=   0.1s\n",
      "[CV 1/5] END max_depth=6, max_features=0.3, min_samples_split=3; total time=   0.1s\n",
      "[CV 2/5] END max_depth=6, max_features=0.3, min_samples_split=3; total time=   0.1s\n",
      "[CV 3/5] END max_depth=6, max_features=0.3, min_samples_split=3; total time=   0.1s\n",
      "[CV 4/5] END max_depth=6, max_features=0.3, min_samples_split=3; total time=   0.1s\n",
      "[CV 5/5] END max_depth=6, max_features=0.3, min_samples_split=3; total time=   0.1s\n",
      "[CV 1/5] END max_depth=6, max_features=0.3, min_samples_split=4; total time=   0.1s\n",
      "[CV 2/5] END max_depth=6, max_features=0.3, min_samples_split=4; total time=   0.1s\n",
      "[CV 3/5] END max_depth=6, max_features=0.3, min_samples_split=4; total time=   0.1s\n",
      "[CV 4/5] END max_depth=6, max_features=0.3, min_samples_split=4; total time=   0.1s\n",
      "[CV 5/5] END max_depth=6, max_features=0.3, min_samples_split=4; total time=   0.1s\n",
      "[CV 1/5] END max_depth=6, max_features=0.4, min_samples_split=2; total time=   0.1s\n",
      "[CV 2/5] END max_depth=6, max_features=0.4, min_samples_split=2; total time=   0.1s\n",
      "[CV 3/5] END max_depth=6, max_features=0.4, min_samples_split=2; total time=   0.1s\n",
      "[CV 4/5] END max_depth=6, max_features=0.4, min_samples_split=2; total time=   0.1s\n",
      "[CV 5/5] END max_depth=6, max_features=0.4, min_samples_split=2; total time=   0.1s\n",
      "[CV 1/5] END max_depth=6, max_features=0.4, min_samples_split=3; total time=   0.1s\n",
      "[CV 2/5] END max_depth=6, max_features=0.4, min_samples_split=3; total time=   0.1s\n",
      "[CV 3/5] END max_depth=6, max_features=0.4, min_samples_split=3; total time=   0.1s\n",
      "[CV 4/5] END max_depth=6, max_features=0.4, min_samples_split=3; total time=   0.1s\n",
      "[CV 5/5] END max_depth=6, max_features=0.4, min_samples_split=3; total time=   0.1s\n",
      "[CV 1/5] END max_depth=6, max_features=0.4, min_samples_split=4; total time=   0.1s\n",
      "[CV 2/5] END max_depth=6, max_features=0.4, min_samples_split=4; total time=   0.1s\n",
      "[CV 3/5] END max_depth=6, max_features=0.4, min_samples_split=4; total time=   0.1s\n",
      "[CV 4/5] END max_depth=6, max_features=0.4, min_samples_split=4; total time=   0.1s\n",
      "[CV 5/5] END max_depth=6, max_features=0.4, min_samples_split=4; total time=   0.1s\n",
      "[CV 1/5] END max_depth=6, max_features=0.5, min_samples_split=2; total time=   0.1s\n",
      "[CV 2/5] END max_depth=6, max_features=0.5, min_samples_split=2; total time=   0.1s\n",
      "[CV 3/5] END max_depth=6, max_features=0.5, min_samples_split=2; total time=   0.1s\n",
      "[CV 4/5] END max_depth=6, max_features=0.5, min_samples_split=2; total time=   0.1s\n",
      "[CV 5/5] END max_depth=6, max_features=0.5, min_samples_split=2; total time=   0.1s\n",
      "[CV 1/5] END max_depth=6, max_features=0.5, min_samples_split=3; total time=   0.1s\n",
      "[CV 2/5] END max_depth=6, max_features=0.5, min_samples_split=3; total time=   0.2s\n",
      "[CV 3/5] END max_depth=6, max_features=0.5, min_samples_split=3; total time=   0.1s\n",
      "[CV 4/5] END max_depth=6, max_features=0.5, min_samples_split=3; total time=   0.1s\n",
      "[CV 5/5] END max_depth=6, max_features=0.5, min_samples_split=3; total time=   0.1s\n",
      "[CV 1/5] END max_depth=6, max_features=0.5, min_samples_split=4; total time=   0.1s\n",
      "[CV 2/5] END max_depth=6, max_features=0.5, min_samples_split=4; total time=   0.1s\n",
      "[CV 3/5] END max_depth=6, max_features=0.5, min_samples_split=4; total time=   0.1s\n",
      "[CV 4/5] END max_depth=6, max_features=0.5, min_samples_split=4; total time=   0.1s\n",
      "[CV 5/5] END max_depth=6, max_features=0.5, min_samples_split=4; total time=   0.1s\n",
      "[CV 1/5] END max_depth=6, max_features=0.55, min_samples_split=2; total time=   0.2s\n",
      "[CV 2/5] END max_depth=6, max_features=0.55, min_samples_split=2; total time=   0.1s\n",
      "[CV 3/5] END max_depth=6, max_features=0.55, min_samples_split=2; total time=   0.1s\n",
      "[CV 4/5] END max_depth=6, max_features=0.55, min_samples_split=2; total time=   0.1s\n",
      "[CV 5/5] END max_depth=6, max_features=0.55, min_samples_split=2; total time=   0.1s\n"
     ]
    },
    {
     "name": "stdout",
     "output_type": "stream",
     "text": [
      "[CV 1/5] END max_depth=6, max_features=0.55, min_samples_split=3; total time=   0.1s\n",
      "[CV 2/5] END max_depth=6, max_features=0.55, min_samples_split=3; total time=   0.1s\n",
      "[CV 3/5] END max_depth=6, max_features=0.55, min_samples_split=3; total time=   0.1s\n",
      "[CV 4/5] END max_depth=6, max_features=0.55, min_samples_split=3; total time=   0.1s\n",
      "[CV 5/5] END max_depth=6, max_features=0.55, min_samples_split=3; total time=   0.1s\n",
      "[CV 1/5] END max_depth=6, max_features=0.55, min_samples_split=4; total time=   0.1s\n",
      "[CV 2/5] END max_depth=6, max_features=0.55, min_samples_split=4; total time=   0.1s\n",
      "[CV 3/5] END max_depth=6, max_features=0.55, min_samples_split=4; total time=   0.1s\n",
      "[CV 4/5] END max_depth=6, max_features=0.55, min_samples_split=4; total time=   0.1s\n",
      "[CV 5/5] END max_depth=6, max_features=0.55, min_samples_split=4; total time=   0.1s\n"
     ]
    },
    {
     "data": {
      "text/plain": [
       "GridSearchCV(cv=5, estimator=GradientBoostingRegressor(),\n",
       "             param_grid={'max_depth': [2, 3, 4, 5, 6],\n",
       "                         'max_features': [0.3, 0.4, 0.5, 0.55],\n",
       "                         'min_samples_split': [2, 3, 4]},\n",
       "             return_train_score=True, scoring='neg_mean_squared_error',\n",
       "             verbose=3)"
      ]
     },
     "execution_count": 68,
     "metadata": {},
     "output_type": "execute_result"
    }
   ],
   "source": [
    "gs.fit(X_train, y_train)"
   ]
  },
  {
   "cell_type": "code",
   "execution_count": 69,
   "metadata": {
    "code_folding": []
   },
   "outputs": [],
   "source": [
    "grid_search_results = pd.DataFrame(gs.cv_results_)\n",
    "# we only keep some of the information\n",
    "grid_search_results = grid_search_results[['param_max_depth', 'param_max_features', 'param_min_samples_split',\n",
    "       'mean_test_score', 'mean_train_score']]\n",
    "grid_search_results[\"diferencia\"] = grid_search_results[\"mean_test_score\"] - grid_search_results[\"mean_train_score\"]"
   ]
  },
  {
   "cell_type": "code",
   "execution_count": 70,
   "metadata": {},
   "outputs": [
    {
     "data": {
      "text/html": [
       "<div>\n",
       "<style scoped>\n",
       "    .dataframe tbody tr th:only-of-type {\n",
       "        vertical-align: middle;\n",
       "    }\n",
       "\n",
       "    .dataframe tbody tr th {\n",
       "        vertical-align: top;\n",
       "    }\n",
       "\n",
       "    .dataframe thead th {\n",
       "        text-align: right;\n",
       "    }\n",
       "</style>\n",
       "<table border=\"1\" class=\"dataframe\">\n",
       "  <thead>\n",
       "    <tr style=\"text-align: right;\">\n",
       "      <th></th>\n",
       "      <th>param_max_depth</th>\n",
       "      <th>param_max_features</th>\n",
       "      <th>param_min_samples_split</th>\n",
       "      <th>mean_test_score</th>\n",
       "      <th>mean_train_score</th>\n",
       "      <th>diferencia</th>\n",
       "    </tr>\n",
       "  </thead>\n",
       "  <tbody>\n",
       "    <tr>\n",
       "      <th>15</th>\n",
       "      <td>3</td>\n",
       "      <td>0.4</td>\n",
       "      <td>2</td>\n",
       "      <td>-0.339411</td>\n",
       "      <td>-0.090540</td>\n",
       "      <td>-0.248870</td>\n",
       "    </tr>\n",
       "    <tr>\n",
       "      <th>5</th>\n",
       "      <td>2</td>\n",
       "      <td>0.4</td>\n",
       "      <td>4</td>\n",
       "      <td>-0.344669</td>\n",
       "      <td>-0.161381</td>\n",
       "      <td>-0.183288</td>\n",
       "    </tr>\n",
       "    <tr>\n",
       "      <th>11</th>\n",
       "      <td>2</td>\n",
       "      <td>0.55</td>\n",
       "      <td>4</td>\n",
       "      <td>-0.347016</td>\n",
       "      <td>-0.157800</td>\n",
       "      <td>-0.189216</td>\n",
       "    </tr>\n",
       "    <tr>\n",
       "      <th>13</th>\n",
       "      <td>3</td>\n",
       "      <td>0.3</td>\n",
       "      <td>3</td>\n",
       "      <td>-0.349096</td>\n",
       "      <td>-0.106268</td>\n",
       "      <td>-0.242829</td>\n",
       "    </tr>\n",
       "    <tr>\n",
       "      <th>4</th>\n",
       "      <td>2</td>\n",
       "      <td>0.4</td>\n",
       "      <td>3</td>\n",
       "      <td>-0.349200</td>\n",
       "      <td>-0.160874</td>\n",
       "      <td>-0.188326</td>\n",
       "    </tr>\n",
       "    <tr>\n",
       "      <th>16</th>\n",
       "      <td>3</td>\n",
       "      <td>0.4</td>\n",
       "      <td>3</td>\n",
       "      <td>-0.349941</td>\n",
       "      <td>-0.091008</td>\n",
       "      <td>-0.258933</td>\n",
       "    </tr>\n",
       "    <tr>\n",
       "      <th>31</th>\n",
       "      <td>4</td>\n",
       "      <td>0.5</td>\n",
       "      <td>3</td>\n",
       "      <td>-0.350221</td>\n",
       "      <td>-0.038539</td>\n",
       "      <td>-0.311683</td>\n",
       "    </tr>\n",
       "    <tr>\n",
       "      <th>10</th>\n",
       "      <td>2</td>\n",
       "      <td>0.55</td>\n",
       "      <td>3</td>\n",
       "      <td>-0.350319</td>\n",
       "      <td>-0.157888</td>\n",
       "      <td>-0.192431</td>\n",
       "    </tr>\n",
       "    <tr>\n",
       "      <th>19</th>\n",
       "      <td>3</td>\n",
       "      <td>0.5</td>\n",
       "      <td>3</td>\n",
       "      <td>-0.354383</td>\n",
       "      <td>-0.081526</td>\n",
       "      <td>-0.272857</td>\n",
       "    </tr>\n",
       "    <tr>\n",
       "      <th>35</th>\n",
       "      <td>4</td>\n",
       "      <td>0.55</td>\n",
       "      <td>4</td>\n",
       "      <td>-0.354447</td>\n",
       "      <td>-0.040399</td>\n",
       "      <td>-0.314048</td>\n",
       "    </tr>\n",
       "    <tr>\n",
       "      <th>8</th>\n",
       "      <td>2</td>\n",
       "      <td>0.5</td>\n",
       "      <td>4</td>\n",
       "      <td>-0.354842</td>\n",
       "      <td>-0.156581</td>\n",
       "      <td>-0.198260</td>\n",
       "    </tr>\n",
       "    <tr>\n",
       "      <th>6</th>\n",
       "      <td>2</td>\n",
       "      <td>0.5</td>\n",
       "      <td>2</td>\n",
       "      <td>-0.356108</td>\n",
       "      <td>-0.155012</td>\n",
       "      <td>-0.201096</td>\n",
       "    </tr>\n",
       "    <tr>\n",
       "      <th>23</th>\n",
       "      <td>3</td>\n",
       "      <td>0.55</td>\n",
       "      <td>4</td>\n",
       "      <td>-0.356261</td>\n",
       "      <td>-0.085497</td>\n",
       "      <td>-0.270764</td>\n",
       "    </tr>\n",
       "    <tr>\n",
       "      <th>29</th>\n",
       "      <td>4</td>\n",
       "      <td>0.4</td>\n",
       "      <td>4</td>\n",
       "      <td>-0.356266</td>\n",
       "      <td>-0.044561</td>\n",
       "      <td>-0.311705</td>\n",
       "    </tr>\n",
       "    <tr>\n",
       "      <th>7</th>\n",
       "      <td>2</td>\n",
       "      <td>0.5</td>\n",
       "      <td>3</td>\n",
       "      <td>-0.357361</td>\n",
       "      <td>-0.156954</td>\n",
       "      <td>-0.200407</td>\n",
       "    </tr>\n",
       "  </tbody>\n",
       "</table>\n",
       "</div>"
      ],
      "text/plain": [
       "   param_max_depth param_max_features param_min_samples_split  \\\n",
       "15               3                0.4                       2   \n",
       "5                2                0.4                       4   \n",
       "11               2               0.55                       4   \n",
       "13               3                0.3                       3   \n",
       "4                2                0.4                       3   \n",
       "16               3                0.4                       3   \n",
       "31               4                0.5                       3   \n",
       "10               2               0.55                       3   \n",
       "19               3                0.5                       3   \n",
       "35               4               0.55                       4   \n",
       "8                2                0.5                       4   \n",
       "6                2                0.5                       2   \n",
       "23               3               0.55                       4   \n",
       "29               4                0.4                       4   \n",
       "7                2                0.5                       3   \n",
       "\n",
       "    mean_test_score  mean_train_score  diferencia  \n",
       "15        -0.339411         -0.090540   -0.248870  \n",
       "5         -0.344669         -0.161381   -0.183288  \n",
       "11        -0.347016         -0.157800   -0.189216  \n",
       "13        -0.349096         -0.106268   -0.242829  \n",
       "4         -0.349200         -0.160874   -0.188326  \n",
       "16        -0.349941         -0.091008   -0.258933  \n",
       "31        -0.350221         -0.038539   -0.311683  \n",
       "10        -0.350319         -0.157888   -0.192431  \n",
       "19        -0.354383         -0.081526   -0.272857  \n",
       "35        -0.354447         -0.040399   -0.314048  \n",
       "8         -0.354842         -0.156581   -0.198260  \n",
       "6         -0.356108         -0.155012   -0.201096  \n",
       "23        -0.356261         -0.085497   -0.270764  \n",
       "29        -0.356266         -0.044561   -0.311705  \n",
       "7         -0.357361         -0.156954   -0.200407  "
      ]
     },
     "execution_count": 70,
     "metadata": {},
     "output_type": "execute_result"
    }
   ],
   "source": [
    "grid_search_results.sort_values(\"mean_test_score\", ascending=False).head(15)"
   ]
  },
  {
   "cell_type": "code",
   "execution_count": 76,
   "metadata": {},
   "outputs": [
    {
     "data": {
      "text/plain": [
       "GradientBoostingRegressor(max_features=0.4)"
      ]
     },
     "execution_count": 76,
     "metadata": {},
     "output_type": "execute_result"
    }
   ],
   "source": [
    "best_tree = gs.best_estimator_\n",
    "best_tree"
   ]
  },
  {
   "cell_type": "code",
   "execution_count": 75,
   "metadata": {},
   "outputs": [
    {
     "data": {
      "text/plain": [
       "0.15177197884363247"
      ]
     },
     "execution_count": 75,
     "metadata": {},
     "output_type": "execute_result"
    }
   ],
   "source": [
    "metrics.r2_score(y_true=y_test,y_pred=y_pred)"
   ]
  },
  {
   "cell_type": "code",
   "execution_count": 81,
   "metadata": {},
   "outputs": [
    {
     "name": "stdout",
     "output_type": "stream",
     "text": [
      "he best fuel for this travel is E10\n"
     ]
    }
   ],
   "source": [
    "asd=34\n",
    "asfd=12\n",
    "\n",
    "dc={\"SP98\":asd,\"E10\":asfd}\n",
    "\n",
    "mejor = min(dc, key=dc.get)\n",
    "\n",
    "print(f\"he best fuel for this travel is {mejor}\")"
   ]
  },
  {
   "cell_type": "markdown",
   "metadata": {},
   "source": [
    "# Best Hyperparameters\n",
    "Now we have to save the hyperparameters, in order to use the best model in our app."
   ]
  },
  {
   "cell_type": "code",
   "execution_count": 77,
   "metadata": {},
   "outputs": [],
   "source": [
    "pickle.dump(best_tree,open(\"Tools/parameters/cars\", \"wb\"))"
   ]
  },
  {
   "cell_type": "markdown",
   "metadata": {},
   "source": [
    "# H2O Trainning"
   ]
  },
  {
   "cell_type": "markdown",
   "metadata": {},
   "source": [
    "## Init H2O"
   ]
  },
  {
   "cell_type": "code",
   "execution_count": 32,
   "metadata": {},
   "outputs": [
    {
     "name": "stdout",
     "output_type": "stream",
     "text": [
      "Checking whether there is an H2O instance running at http://localhost:54321 ..... not found.\n",
      "Attempting to start a local H2O server...\n",
      "  Java Version: openjdk version \"11.0.11\" 2021-04-20; OpenJDK Runtime Environment (build 11.0.11+9-Ubuntu-0ubuntu2.20.04); OpenJDK 64-Bit Server VM (build 11.0.11+9-Ubuntu-0ubuntu2.20.04, mixed mode, sharing)\n",
      "  Starting server from /home/marcunu/.local/lib/python3.8/site-packages/h2o/backend/bin/h2o.jar\n",
      "  Ice root: /tmp/tmp22hl6jy1\n",
      "  JVM stdout: /tmp/tmp22hl6jy1/h2o_marcunu_started_from_python.out\n",
      "  JVM stderr: /tmp/tmp22hl6jy1/h2o_marcunu_started_from_python.err\n",
      "  Server is running at http://127.0.0.1:54321\n",
      "Connecting to H2O server at http://127.0.0.1:54321 ... successful.\n"
     ]
    },
    {
     "data": {
      "text/html": [
       "<div style=\"overflow:auto\"><table style=\"width:50%\"><tr><td>H2O_cluster_uptime:</td>\n",
       "<td>06 secs</td></tr>\n",
       "<tr><td>H2O_cluster_timezone:</td>\n",
       "<td>Europe/Madrid</td></tr>\n",
       "<tr><td>H2O_data_parsing_timezone:</td>\n",
       "<td>UTC</td></tr>\n",
       "<tr><td>H2O_cluster_version:</td>\n",
       "<td>3.32.1.2</td></tr>\n",
       "<tr><td>H2O_cluster_version_age:</td>\n",
       "<td>1 month </td></tr>\n",
       "<tr><td>H2O_cluster_name:</td>\n",
       "<td>H2O_from_python_marcunu_t4e63b</td></tr>\n",
       "<tr><td>H2O_cluster_total_nodes:</td>\n",
       "<td>1</td></tr>\n",
       "<tr><td>H2O_cluster_free_memory:</td>\n",
       "<td>1.973 Gb</td></tr>\n",
       "<tr><td>H2O_cluster_total_cores:</td>\n",
       "<td>8</td></tr>\n",
       "<tr><td>H2O_cluster_allowed_cores:</td>\n",
       "<td>8</td></tr>\n",
       "<tr><td>H2O_cluster_status:</td>\n",
       "<td>accepting new members, healthy</td></tr>\n",
       "<tr><td>H2O_connection_url:</td>\n",
       "<td>http://127.0.0.1:54321</td></tr>\n",
       "<tr><td>H2O_connection_proxy:</td>\n",
       "<td>{\"http\": null, \"https\": null}</td></tr>\n",
       "<tr><td>H2O_internal_security:</td>\n",
       "<td>False</td></tr>\n",
       "<tr><td>H2O_API_Extensions:</td>\n",
       "<td>Amazon S3, XGBoost, Algos, AutoML, Core V3, TargetEncoder, Core V4</td></tr>\n",
       "<tr><td>Python_version:</td>\n",
       "<td>3.8.5 final</td></tr></table></div>"
      ],
      "text/plain": [
       "--------------------------  ------------------------------------------------------------------\n",
       "H2O_cluster_uptime:         06 secs\n",
       "H2O_cluster_timezone:       Europe/Madrid\n",
       "H2O_data_parsing_timezone:  UTC\n",
       "H2O_cluster_version:        3.32.1.2\n",
       "H2O_cluster_version_age:    1 month\n",
       "H2O_cluster_name:           H2O_from_python_marcunu_t4e63b\n",
       "H2O_cluster_total_nodes:    1\n",
       "H2O_cluster_free_memory:    1.973 Gb\n",
       "H2O_cluster_total_cores:    8\n",
       "H2O_cluster_allowed_cores:  8\n",
       "H2O_cluster_status:         accepting new members, healthy\n",
       "H2O_connection_url:         http://127.0.0.1:54321\n",
       "H2O_connection_proxy:       {\"http\": null, \"https\": null}\n",
       "H2O_internal_security:      False\n",
       "H2O_API_Extensions:         Amazon S3, XGBoost, Algos, AutoML, Core V3, TargetEncoder, Core V4\n",
       "Python_version:             3.8.5 final\n",
       "--------------------------  ------------------------------------------------------------------"
      ]
     },
     "metadata": {},
     "output_type": "display_data"
    }
   ],
   "source": [
    "h2o.init()"
   ]
  },
  {
   "cell_type": "code",
   "execution_count": 33,
   "metadata": {},
   "outputs": [
    {
     "name": "stderr",
     "output_type": "stream",
     "text": [
      "<ipython-input-33-e67f4df077e2>:2: SettingWithCopyWarning: \n",
      "A value is trying to be set on a copy of a slice from a DataFrame.\n",
      "Try using .loc[row_indexer,col_indexer] = value instead\n",
      "\n",
      "See the caveats in the documentation: https://pandas.pydata.org/pandas-docs/stable/user_guide/indexing.html#returning-a-view-versus-a-copy\n",
      "  train[\"consume\"] = y_train\n"
     ]
    }
   ],
   "source": [
    "train = X_train\n",
    "train[\"consume\"] = y_train"
   ]
  },
  {
   "cell_type": "code",
   "execution_count": 34,
   "metadata": {},
   "outputs": [
    {
     "name": "stdout",
     "output_type": "stream",
     "text": [
      "Parse progress: |█████████████████████████████████████████████████████████| 100%\n"
     ]
    }
   ],
   "source": [
    "h2train = h2o.H2OFrame(train)"
   ]
  },
  {
   "cell_type": "code",
   "execution_count": 35,
   "metadata": {},
   "outputs": [
    {
     "name": "stdout",
     "output_type": "stream",
     "text": [
      "X: ['distance', 'speed', 'temp_inside', 'temp_outside', 'AC', 'rain', 'sun', 'gas_type_E10']\n",
      "y: consume\n"
     ]
    }
   ],
   "source": [
    "x = list(train.columns)\n",
    "x.remove('consume')\n",
    "\n",
    "y = \"consume\"\n",
    "\n",
    "print(\"X:\", x)\n",
    "print(\"y:\", y)"
   ]
  },
  {
   "cell_type": "markdown",
   "metadata": {},
   "source": [
    "## Settings"
   ]
  },
  {
   "cell_type": "code",
   "execution_count": 78,
   "metadata": {
    "scrolled": true
   },
   "outputs": [
    {
     "ename": "H2OConnectionError",
     "evalue": "Not connected to a cluster. Did you run `h2o.connect()`?",
     "output_type": "error",
     "traceback": [
      "\u001b[0;31m---------------------------------------------------------------------------\u001b[0m",
      "\u001b[0;31mH2OConnectionError\u001b[0m                        Traceback (most recent call last)",
      "\u001b[0;32m<ipython-input-78-049bd058db4a>\u001b[0m in \u001b[0;36m<module>\u001b[0;34m\u001b[0m\n\u001b[0;32m----> 1\u001b[0;31m \u001b[0mautoml\u001b[0m \u001b[0;34m=\u001b[0m \u001b[0mH2OAutoML\u001b[0m\u001b[0;34m(\u001b[0m\u001b[0mmax_models\u001b[0m\u001b[0;34m=\u001b[0m\u001b[0;36m50\u001b[0m\u001b[0;34m,\u001b[0m \u001b[0mmax_runtime_secs\u001b[0m\u001b[0;34m=\u001b[0m\u001b[0;36m6000\u001b[0m\u001b[0;34m,\u001b[0m \u001b[0msort_metric\u001b[0m\u001b[0;34m=\u001b[0m\u001b[0;34m'RMSE'\u001b[0m\u001b[0;34m)\u001b[0m\u001b[0;34m\u001b[0m\u001b[0;34m\u001b[0m\u001b[0m\n\u001b[0m\u001b[1;32m      2\u001b[0m \u001b[0mautoml\u001b[0m\u001b[0;34m.\u001b[0m\u001b[0mtrain\u001b[0m\u001b[0;34m(\u001b[0m\u001b[0mx\u001b[0m\u001b[0;34m=\u001b[0m\u001b[0mx\u001b[0m\u001b[0;34m,\u001b[0m \u001b[0my\u001b[0m\u001b[0;34m=\u001b[0m\u001b[0my\u001b[0m\u001b[0;34m,\u001b[0m \u001b[0mtraining_frame\u001b[0m\u001b[0;34m=\u001b[0m\u001b[0mh2train\u001b[0m\u001b[0;34m)\u001b[0m\u001b[0;34m\u001b[0m\u001b[0;34m\u001b[0m\u001b[0m\n",
      "\u001b[0;32m~/.local/lib/python3.8/site-packages/h2o/automl/autoh2o.py\u001b[0m in \u001b[0;36m__init__\u001b[0;34m(self, nfolds, balance_classes, class_sampling_factors, max_after_balance_size, max_runtime_secs, max_runtime_secs_per_model, max_models, stopping_metric, stopping_tolerance, stopping_rounds, seed, project_name, exclude_algos, include_algos, exploitation_ratio, modeling_plan, preprocessing, monotone_constraints, keep_cross_validation_predictions, keep_cross_validation_models, keep_cross_validation_fold_assignment, sort_metric, export_checkpoints_dir, verbosity, **kwargs)\u001b[0m\n\u001b[1;32m    153\u001b[0m         \u001b[0;31m# Check if H2O jar contains AutoML\u001b[0m\u001b[0;34m\u001b[0m\u001b[0;34m\u001b[0m\u001b[0;34m\u001b[0m\u001b[0m\n\u001b[1;32m    154\u001b[0m         \u001b[0;32mtry\u001b[0m\u001b[0;34m:\u001b[0m\u001b[0;34m\u001b[0m\u001b[0;34m\u001b[0m\u001b[0m\n\u001b[0;32m--> 155\u001b[0;31m             \u001b[0mh2o\u001b[0m\u001b[0;34m.\u001b[0m\u001b[0mapi\u001b[0m\u001b[0;34m(\u001b[0m\u001b[0;34m\"GET /3/Metadata/schemas/AutoMLV99\"\u001b[0m\u001b[0;34m)\u001b[0m\u001b[0;34m\u001b[0m\u001b[0;34m\u001b[0m\u001b[0m\n\u001b[0m\u001b[1;32m    156\u001b[0m         \u001b[0;32mexcept\u001b[0m \u001b[0mh2o\u001b[0m\u001b[0;34m.\u001b[0m\u001b[0mexceptions\u001b[0m\u001b[0;34m.\u001b[0m\u001b[0mH2OResponseError\u001b[0m \u001b[0;32mas\u001b[0m \u001b[0me\u001b[0m\u001b[0;34m:\u001b[0m\u001b[0;34m\u001b[0m\u001b[0;34m\u001b[0m\u001b[0m\n\u001b[1;32m    157\u001b[0m             \u001b[0mprint\u001b[0m\u001b[0;34m(\u001b[0m\u001b[0me\u001b[0m\u001b[0;34m)\u001b[0m\u001b[0;34m\u001b[0m\u001b[0;34m\u001b[0m\u001b[0m\n",
      "\u001b[0;32m~/.local/lib/python3.8/site-packages/h2o/h2o.py\u001b[0m in \u001b[0;36mapi\u001b[0;34m(endpoint, data, json, filename, save_to)\u001b[0m\n\u001b[1;32m    104\u001b[0m     \"\"\"\n\u001b[1;32m    105\u001b[0m     \u001b[0;31m# type checks are performed in H2OConnection class\u001b[0m\u001b[0;34m\u001b[0m\u001b[0;34m\u001b[0m\u001b[0;34m\u001b[0m\u001b[0m\n\u001b[0;32m--> 106\u001b[0;31m     \u001b[0m_check_connection\u001b[0m\u001b[0;34m(\u001b[0m\u001b[0;34m)\u001b[0m\u001b[0;34m\u001b[0m\u001b[0;34m\u001b[0m\u001b[0m\n\u001b[0m\u001b[1;32m    107\u001b[0m     \u001b[0;32mreturn\u001b[0m \u001b[0mh2oconn\u001b[0m\u001b[0;34m.\u001b[0m\u001b[0mrequest\u001b[0m\u001b[0;34m(\u001b[0m\u001b[0mendpoint\u001b[0m\u001b[0;34m,\u001b[0m \u001b[0mdata\u001b[0m\u001b[0;34m=\u001b[0m\u001b[0mdata\u001b[0m\u001b[0;34m,\u001b[0m \u001b[0mjson\u001b[0m\u001b[0;34m=\u001b[0m\u001b[0mjson\u001b[0m\u001b[0;34m,\u001b[0m \u001b[0mfilename\u001b[0m\u001b[0;34m=\u001b[0m\u001b[0mfilename\u001b[0m\u001b[0;34m,\u001b[0m \u001b[0msave_to\u001b[0m\u001b[0;34m=\u001b[0m\u001b[0msave_to\u001b[0m\u001b[0;34m)\u001b[0m\u001b[0;34m\u001b[0m\u001b[0;34m\u001b[0m\u001b[0m\n\u001b[1;32m    108\u001b[0m \u001b[0;34m\u001b[0m\u001b[0m\n",
      "\u001b[0;32m~/.local/lib/python3.8/site-packages/h2o/h2o.py\u001b[0m in \u001b[0;36m_check_connection\u001b[0;34m()\u001b[0m\n\u001b[1;32m   2425\u001b[0m \u001b[0;32mdef\u001b[0m \u001b[0m_check_connection\u001b[0m\u001b[0;34m(\u001b[0m\u001b[0;34m)\u001b[0m\u001b[0;34m:\u001b[0m\u001b[0;34m\u001b[0m\u001b[0;34m\u001b[0m\u001b[0m\n\u001b[1;32m   2426\u001b[0m     \u001b[0;32mif\u001b[0m \u001b[0;32mnot\u001b[0m \u001b[0mh2oconn\u001b[0m \u001b[0;32mor\u001b[0m \u001b[0;32mnot\u001b[0m \u001b[0mh2oconn\u001b[0m\u001b[0;34m.\u001b[0m\u001b[0mcluster\u001b[0m\u001b[0;34m:\u001b[0m\u001b[0;34m\u001b[0m\u001b[0;34m\u001b[0m\u001b[0m\n\u001b[0;32m-> 2427\u001b[0;31m         \u001b[0;32mraise\u001b[0m \u001b[0mH2OConnectionError\u001b[0m\u001b[0;34m(\u001b[0m\u001b[0;34m\"Not connected to a cluster. Did you run `h2o.connect()`?\"\u001b[0m\u001b[0;34m)\u001b[0m\u001b[0;34m\u001b[0m\u001b[0;34m\u001b[0m\u001b[0m\n\u001b[0m\u001b[1;32m   2428\u001b[0m \u001b[0;34m\u001b[0m\u001b[0m\n\u001b[1;32m   2429\u001b[0m \u001b[0;32mdef\u001b[0m \u001b[0m_connect_with_conf\u001b[0m\u001b[0;34m(\u001b[0m\u001b[0mconn_conf\u001b[0m\u001b[0;34m)\u001b[0m\u001b[0;34m:\u001b[0m\u001b[0;34m\u001b[0m\u001b[0;34m\u001b[0m\u001b[0m\n",
      "\u001b[0;31mH2OConnectionError\u001b[0m: Not connected to a cluster. Did you run `h2o.connect()`?"
     ]
    }
   ],
   "source": [
    "automl = H2OAutoML(max_models=50, max_runtime_secs=6000, sort_metric='RMSE')\n",
    "automl.train(x=x, y=y, training_frame=h2train)"
   ]
  },
  {
   "cell_type": "markdown",
   "metadata": {},
   "source": [
    "## Find the best model"
   ]
  },
  {
   "cell_type": "code",
   "execution_count": null,
   "metadata": {},
   "outputs": [],
   "source": [
    "leader_board = automl.leaderboard\n",
    "leader_board.head()"
   ]
  },
  {
   "cell_type": "markdown",
   "metadata": {},
   "source": [
    "## Test the best model"
   ]
  },
  {
   "cell_type": "code",
   "execution_count": null,
   "metadata": {},
   "outputs": [],
   "source": [
    "#Loading the TEST dataset\n",
    "\n",
    "stacked_test = pd.read_csv(\"data/Machine_learning/Test/casas_test.csv\") #Cleaned Test dataset from Kaggle\n",
    "h2test_stacked = h2o.H2OFrame(stacked_test) #Conversion into a H20 frame to train\n",
    "\n",
    "h2test_stacked.head() #preview"
   ]
  },
  {
   "cell_type": "code",
   "execution_count": null,
   "metadata": {},
   "outputs": [],
   "source": [
    "predicted_price_h2_stacked = automl.leader.predict(h2test_stacked.drop(\"buy_price\")).as_data_frame() #PREDICTING the PRICES on the TEST dataset\n",
    "predicted_price_h2_stacked #Result"
   ]
  },
  {
   "cell_type": "code",
   "execution_count": null,
   "metadata": {},
   "outputs": [],
   "source": []
  }
 ],
 "metadata": {
  "kernelspec": {
   "display_name": "Python 3",
   "language": "python",
   "name": "python3"
  },
  "language_info": {
   "codemirror_mode": {
    "name": "ipython",
    "version": 3
   },
   "file_extension": ".py",
   "mimetype": "text/x-python",
   "name": "python",
   "nbconvert_exporter": "python",
   "pygments_lexer": "ipython3",
   "version": "3.8.5"
  },
  "toc": {
   "base_numbering": 1,
   "nav_menu": {},
   "number_sections": true,
   "sideBar": true,
   "skip_h1_title": false,
   "title_cell": "Table of Contents",
   "title_sidebar": "Contents",
   "toc_cell": false,
   "toc_position": {},
   "toc_section_display": true,
   "toc_window_display": true
  }
 },
 "nbformat": 4,
 "nbformat_minor": 4
}
